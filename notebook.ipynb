{
 "cells": [
  {
   "cell_type": "markdown",
   "metadata": {},
   "source": [
    "# Business Analysis: What Makes a Successful Film?\n",
    "## Overview\n",
    "This project analyzes different characteristics of films to determine what makes films more successful than others. Descriptive analysis of movie data from multiple sources shows that movies from certain studios, certain genres, and certain runtimes perfrom better than others based on profit, revenue and popularity. Movie producers can use this analysis to create movies that will perform successfully.\n",
    "## Business Problem\n",
    "A new movie producer wants as much information on the industry before they start making films. The soon to be producer we are providing this analysis for wants to know ways that they can assure movies they make will be successful. We have been tasked with providing actionable insights that will help forge how they make movies.\n",
    "## Data Sources\n",
    "The data used for this analysis comes from four different sources and were used for these main DataFrames:\n",
    "1. [IMDB](https://www.imdb.com/) - `less_90`,`more_90`,`all_runtime`\n",
    "2. [TheMovieDB](https://www.themoviedb.org/) - `df_gross`\n",
    "3. [Box Office Mojo](https://www.boxofficemojo.com/) - `df_gross`\n",
    "4. [The Numbers](https://www.the-numbers.com/) - `budgets`\n",
    "\n",
    "The most important information used from these sources were movie titles, runtime, revenue, profit, studios, genre, and popularity."
   ]
  },
  {
   "cell_type": "code",
   "execution_count": 1,
   "metadata": {},
   "outputs": [],
   "source": [
    "#importing everything we will need\n",
    "import pandas as pd\n",
    "import sqlite3\n",
    "import matplotlib.pyplot as plt\n",
    "import scipy.stats as stats\n",
    "import statsmodels.api as sm\n",
    "from statsmodels.formula.api import ols\n",
    "import numpy as np\n",
    "from statsmodels.formula.api import ols\n",
    "from scipy.stats.stats import pearsonr\n",
    "from sklearn.linear_model import LinearRegression\n",
    "from statsmodels.stats.diagnostic import linear_rainbow"
   ]
  },
  {
   "cell_type": "markdown",
   "metadata": {},
   "source": [
    "## Discovering the Relationship Between Total Gross Revenue and Production Studios\n",
    "### Initial Exploration and Cleaning of the DataFrame (loading `bom.movie_gross.csv.gz`)"
   ]
  },
  {
   "cell_type": "code",
   "execution_count": 2,
   "metadata": {},
   "outputs": [],
   "source": [
    "df_gross = pd.read_csv(\"./zippedData/bom.movie_gross.csv.gz\")\n",
    "df_gross['foreign_gross'] = df_gross['foreign_gross'].str.replace(',', '')\n",
    "df_gross['foreign_gross'] = df_gross['foreign_gross'].astype(float)\n",
    "df_gross.dropna(subset=['domestic_gross', 'foreign_gross'], inplace=True)\n",
    "#computing the total gross\n",
    "df_gross['total_gross']= df_gross['domestic_gross'] + df_gross['foreign_gross']"
   ]
  },
  {
   "cell_type": "markdown",
   "metadata": {},
   "source": [
    "### Grouping revenue by `studio` and generationg a DataFrame with top 10 production studios."
   ]
  },
  {
   "cell_type": "code",
   "execution_count": 3,
   "metadata": {},
   "outputs": [],
   "source": [
    "studio_group = df_gross.groupby('studio')\n",
    "avg_total = studio_group['total_gross'].mean()\n",
    "sorted_avg_total = avg_total.sort_values(ascending=False)\n",
    "top10studios = pd.DataFrame(sorted_avg_total).head(10)"
   ]
  },
  {
   "cell_type": "markdown",
   "metadata": {},
   "source": [
    "## Discovering the Relationship Between Movie Ratings and Genre"
   ]
  },
  {
   "cell_type": "markdown",
   "metadata": {},
   "source": [
    "### Transforming the genre codes into the genre names using `genre_ids`."
   ]
  },
  {
   "cell_type": "code",
   "execution_count": 4,
   "metadata": {},
   "outputs": [],
   "source": [
    "df_movies = pd.read_csv(\"./zippedData/tmdb.movies.csv.gz\")\n",
    "#we retreived the genre codes from The Movie Database website and substituted them for \n",
    "#the actual genre name.\n",
    "genre_mapping = {\n",
    "    28: \"Action\",\n",
    "    12: \"Adventure\",\n",
    "    16: \"Animation\",\n",
    "    35: \"Comedy\",\n",
    "    80: \"Crime\",\n",
    "    99: \"Documentary\",\n",
    "    18: \"Drama\",\n",
    "    10751: \"Family\",\n",
    "    14: \"Fantasy\",\n",
    "    36: \"History\",\n",
    "    27: \"Horror\",\n",
    "    10402: \"Music\",\n",
    "    9648: \"Mystery\",\n",
    "    10749: \"Romance\",\n",
    "    878: \"Science Fiction\",\n",
    "    10770: \"TV Movie\",\n",
    "    53: \"Thriller\",\n",
    "    10752: \"War\",\n",
    "    37: \"Western\"\n",
    "}\n",
    "\n",
    "import ast\n",
    "\n",
    "def convert_str_list(s):\n",
    "    try:\n",
    "        return ast.literal_eval(s)\n",
    "    except ValueError as e:\n",
    "        print(f\"Error for string: {s}\\nError is: {e}\")\n",
    "        return s    # return the original string in case of error\n",
    "def get_genre_names(genre_codes):\n",
    "    return [genre_mapping.get(code, \"Undefined\") for code in genre_codes]\n",
    "\n",
    "df_movies['genre_ids'] = df_movies['genre_ids'].apply(convert_str_list)\n",
    "df_movies['genre_names'] = df_movies['genre_ids'].apply(get_genre_names)\n",
    "\n",
    "df_movies['genre_names'] = df_movies['genre_names'].apply(lambda x: ', '.join(x))"
   ]
  },
  {
   "cell_type": "markdown",
   "metadata": {},
   "source": [
    "### Breaking down ratings for each individual genre and generating a DataFrame containing the top genres based on weighted rating with respect to `vote_count`."
   ]
  },
  {
   "cell_type": "code",
   "execution_count": 5,
   "metadata": {},
   "outputs": [],
   "source": [
    "df_movies['genre_names'] = df_movies['genre_names'].str.split(', ')\n",
    "df_exploded = df_movies.explode('genre_names')\n",
    "df_exploded['weighted_vote'] = df_exploded['vote_count'] * df_exploded['vote_average']\n",
    "df_weighted = df_exploded.groupby('genre_names').agg({'weighted_vote': 'sum', 'vote_count': 'sum'})\n",
    "df_weighted['average_rating'] = df_weighted['weighted_vote'] / df_weighted['vote_count']"
   ]
  },
  {
   "cell_type": "code",
   "execution_count": 6,
   "metadata": {
    "scrolled": true
   },
   "outputs": [
    {
     "data": {
      "text/html": [
       "<div>\n",
       "<style scoped>\n",
       "    .dataframe tbody tr th:only-of-type {\n",
       "        vertical-align: middle;\n",
       "    }\n",
       "\n",
       "    .dataframe tbody tr th {\n",
       "        vertical-align: top;\n",
       "    }\n",
       "\n",
       "    .dataframe thead th {\n",
       "        text-align: right;\n",
       "    }\n",
       "</style>\n",
       "<table border=\"1\" class=\"dataframe\">\n",
       "  <thead>\n",
       "    <tr style=\"text-align: right;\">\n",
       "      <th></th>\n",
       "      <th>genre_names</th>\n",
       "      <th>weighted_vote</th>\n",
       "      <th>vote_count</th>\n",
       "      <th>average_rating</th>\n",
       "    </tr>\n",
       "  </thead>\n",
       "  <tbody>\n",
       "    <tr>\n",
       "      <th>0</th>\n",
       "      <td>History</td>\n",
       "      <td>1431103.3</td>\n",
       "      <td>195600</td>\n",
       "      <td>7.316479</td>\n",
       "    </tr>\n",
       "    <tr>\n",
       "      <th>1</th>\n",
       "      <td>War</td>\n",
       "      <td>1024805.5</td>\n",
       "      <td>141336</td>\n",
       "      <td>7.250846</td>\n",
       "    </tr>\n",
       "    <tr>\n",
       "      <th>2</th>\n",
       "      <td>Animation</td>\n",
       "      <td>3643815.3</td>\n",
       "      <td>506612</td>\n",
       "      <td>7.192517</td>\n",
       "    </tr>\n",
       "    <tr>\n",
       "      <th>3</th>\n",
       "      <td>Documentary</td>\n",
       "      <td>446405.3</td>\n",
       "      <td>62283</td>\n",
       "      <td>7.167370</td>\n",
       "    </tr>\n",
       "    <tr>\n",
       "      <th>4</th>\n",
       "      <td>Music</td>\n",
       "      <td>624432.3</td>\n",
       "      <td>87434</td>\n",
       "      <td>7.141756</td>\n",
       "    </tr>\n",
       "    <tr>\n",
       "      <th>5</th>\n",
       "      <td>Western</td>\n",
       "      <td>655407.2</td>\n",
       "      <td>92667</td>\n",
       "      <td>7.072714</td>\n",
       "    </tr>\n",
       "    <tr>\n",
       "      <th>6</th>\n",
       "      <td>Family</td>\n",
       "      <td>4588380.8</td>\n",
       "      <td>652585</td>\n",
       "      <td>7.031085</td>\n",
       "    </tr>\n",
       "    <tr>\n",
       "      <th>7</th>\n",
       "      <td>Drama</td>\n",
       "      <td>14485381.9</td>\n",
       "      <td>2064637</td>\n",
       "      <td>7.015946</td>\n",
       "    </tr>\n",
       "    <tr>\n",
       "      <th>8</th>\n",
       "      <td>Adventure</td>\n",
       "      <td>11288628.2</td>\n",
       "      <td>1645828</td>\n",
       "      <td>6.858936</td>\n",
       "    </tr>\n",
       "    <tr>\n",
       "      <th>9</th>\n",
       "      <td>Romance</td>\n",
       "      <td>4249937.6</td>\n",
       "      <td>621223</td>\n",
       "      <td>6.841243</td>\n",
       "    </tr>\n",
       "    <tr>\n",
       "      <th>10</th>\n",
       "      <td>Science Fiction</td>\n",
       "      <td>8338121.6</td>\n",
       "      <td>1222644</td>\n",
       "      <td>6.819746</td>\n",
       "    </tr>\n",
       "    <tr>\n",
       "      <th>11</th>\n",
       "      <td>Fantasy</td>\n",
       "      <td>6106473.6</td>\n",
       "      <td>902816</td>\n",
       "      <td>6.763807</td>\n",
       "    </tr>\n",
       "    <tr>\n",
       "      <th>12</th>\n",
       "      <td>Crime</td>\n",
       "      <td>4265785.1</td>\n",
       "      <td>632691</td>\n",
       "      <td>6.742288</td>\n",
       "    </tr>\n",
       "    <tr>\n",
       "      <th>13</th>\n",
       "      <td>Action</td>\n",
       "      <td>12832945.6</td>\n",
       "      <td>1912290</td>\n",
       "      <td>6.710774</td>\n",
       "    </tr>\n",
       "    <tr>\n",
       "      <th>14</th>\n",
       "      <td>Comedy</td>\n",
       "      <td>9413909.5</td>\n",
       "      <td>1403883</td>\n",
       "      <td>6.705623</td>\n",
       "    </tr>\n",
       "    <tr>\n",
       "      <th>15</th>\n",
       "      <td>Mystery</td>\n",
       "      <td>2957638.9</td>\n",
       "      <td>442671</td>\n",
       "      <td>6.681348</td>\n",
       "    </tr>\n",
       "    <tr>\n",
       "      <th>16</th>\n",
       "      <td>Thriller</td>\n",
       "      <td>8771460.9</td>\n",
       "      <td>1342877</td>\n",
       "      <td>6.531842</td>\n",
       "    </tr>\n",
       "    <tr>\n",
       "      <th>17</th>\n",
       "      <td>TV Movie</td>\n",
       "      <td>207982.8</td>\n",
       "      <td>33383</td>\n",
       "      <td>6.230201</td>\n",
       "    </tr>\n",
       "    <tr>\n",
       "      <th>18</th>\n",
       "      <td>Horror</td>\n",
       "      <td>3051423.1</td>\n",
       "      <td>502490</td>\n",
       "      <td>6.072605</td>\n",
       "    </tr>\n",
       "    <tr>\n",
       "      <th>19</th>\n",
       "      <td></td>\n",
       "      <td>29840.5</td>\n",
       "      <td>4992</td>\n",
       "      <td>5.977664</td>\n",
       "    </tr>\n",
       "  </tbody>\n",
       "</table>\n",
       "</div>"
      ],
      "text/plain": [
       "        genre_names  weighted_vote  vote_count  average_rating\n",
       "0           History      1431103.3      195600        7.316479\n",
       "1               War      1024805.5      141336        7.250846\n",
       "2         Animation      3643815.3      506612        7.192517\n",
       "3       Documentary       446405.3       62283        7.167370\n",
       "4             Music       624432.3       87434        7.141756\n",
       "5           Western       655407.2       92667        7.072714\n",
       "6            Family      4588380.8      652585        7.031085\n",
       "7             Drama     14485381.9     2064637        7.015946\n",
       "8         Adventure     11288628.2     1645828        6.858936\n",
       "9           Romance      4249937.6      621223        6.841243\n",
       "10  Science Fiction      8338121.6     1222644        6.819746\n",
       "11          Fantasy      6106473.6      902816        6.763807\n",
       "12            Crime      4265785.1      632691        6.742288\n",
       "13           Action     12832945.6     1912290        6.710774\n",
       "14           Comedy      9413909.5     1403883        6.705623\n",
       "15          Mystery      2957638.9      442671        6.681348\n",
       "16         Thriller      8771460.9     1342877        6.531842\n",
       "17         TV Movie       207982.8       33383        6.230201\n",
       "18           Horror      3051423.1      502490        6.072605\n",
       "19                         29840.5        4992        5.977664"
      ]
     },
     "execution_count": 6,
     "metadata": {},
     "output_type": "execute_result"
    }
   ],
   "source": [
    "df_weighted = df_weighted.sort_values(by='average_rating', ascending=False)\n",
    "df_weighted.reset_index(inplace=True)\n",
    "df_weighted"
   ]
  },
  {
   "cell_type": "markdown",
   "metadata": {},
   "source": [
    "## Discovering Relationship between Runtime and Profit\n",
    "### Initial SQL Data Exploration (Loading in, creating DataFrames)"
   ]
  },
  {
   "cell_type": "code",
   "execution_count": 7,
   "metadata": {
    "scrolled": false
   },
   "outputs": [
    {
     "data": {
      "text/html": [
       "<div>\n",
       "<style scoped>\n",
       "    .dataframe tbody tr th:only-of-type {\n",
       "        vertical-align: middle;\n",
       "    }\n",
       "\n",
       "    .dataframe tbody tr th {\n",
       "        vertical-align: top;\n",
       "    }\n",
       "\n",
       "    .dataframe thead th {\n",
       "        text-align: right;\n",
       "    }\n",
       "</style>\n",
       "<table border=\"1\" class=\"dataframe\">\n",
       "  <thead>\n",
       "    <tr style=\"text-align: right;\">\n",
       "      <th></th>\n",
       "      <th>type</th>\n",
       "      <th>name</th>\n",
       "      <th>tbl_name</th>\n",
       "      <th>rootpage</th>\n",
       "      <th>sql</th>\n",
       "    </tr>\n",
       "  </thead>\n",
       "  <tbody>\n",
       "    <tr>\n",
       "      <th>0</th>\n",
       "      <td>table</td>\n",
       "      <td>movie_basics</td>\n",
       "      <td>movie_basics</td>\n",
       "      <td>2</td>\n",
       "      <td>CREATE TABLE \"movie_basics\" (\\n\"movie_id\" TEXT...</td>\n",
       "    </tr>\n",
       "    <tr>\n",
       "      <th>1</th>\n",
       "      <td>table</td>\n",
       "      <td>directors</td>\n",
       "      <td>directors</td>\n",
       "      <td>3</td>\n",
       "      <td>CREATE TABLE \"directors\" (\\n\"movie_id\" TEXT,\\n...</td>\n",
       "    </tr>\n",
       "    <tr>\n",
       "      <th>2</th>\n",
       "      <td>table</td>\n",
       "      <td>known_for</td>\n",
       "      <td>known_for</td>\n",
       "      <td>4</td>\n",
       "      <td>CREATE TABLE \"known_for\" (\\n\"person_id\" TEXT,\\...</td>\n",
       "    </tr>\n",
       "    <tr>\n",
       "      <th>3</th>\n",
       "      <td>table</td>\n",
       "      <td>movie_akas</td>\n",
       "      <td>movie_akas</td>\n",
       "      <td>5</td>\n",
       "      <td>CREATE TABLE \"movie_akas\" (\\n\"movie_id\" TEXT,\\...</td>\n",
       "    </tr>\n",
       "    <tr>\n",
       "      <th>4</th>\n",
       "      <td>table</td>\n",
       "      <td>movie_ratings</td>\n",
       "      <td>movie_ratings</td>\n",
       "      <td>6</td>\n",
       "      <td>CREATE TABLE \"movie_ratings\" (\\n\"movie_id\" TEX...</td>\n",
       "    </tr>\n",
       "    <tr>\n",
       "      <th>5</th>\n",
       "      <td>table</td>\n",
       "      <td>persons</td>\n",
       "      <td>persons</td>\n",
       "      <td>7</td>\n",
       "      <td>CREATE TABLE \"persons\" (\\n\"person_id\" TEXT,\\n ...</td>\n",
       "    </tr>\n",
       "    <tr>\n",
       "      <th>6</th>\n",
       "      <td>table</td>\n",
       "      <td>principals</td>\n",
       "      <td>principals</td>\n",
       "      <td>8</td>\n",
       "      <td>CREATE TABLE \"principals\" (\\n\"movie_id\" TEXT,\\...</td>\n",
       "    </tr>\n",
       "    <tr>\n",
       "      <th>7</th>\n",
       "      <td>table</td>\n",
       "      <td>writers</td>\n",
       "      <td>writers</td>\n",
       "      <td>9</td>\n",
       "      <td>CREATE TABLE \"writers\" (\\n\"movie_id\" TEXT,\\n  ...</td>\n",
       "    </tr>\n",
       "  </tbody>\n",
       "</table>\n",
       "</div>"
      ],
      "text/plain": [
       "    type           name       tbl_name  rootpage  \\\n",
       "0  table   movie_basics   movie_basics         2   \n",
       "1  table      directors      directors         3   \n",
       "2  table      known_for      known_for         4   \n",
       "3  table     movie_akas     movie_akas         5   \n",
       "4  table  movie_ratings  movie_ratings         6   \n",
       "5  table        persons        persons         7   \n",
       "6  table     principals     principals         8   \n",
       "7  table        writers        writers         9   \n",
       "\n",
       "                                                 sql  \n",
       "0  CREATE TABLE \"movie_basics\" (\\n\"movie_id\" TEXT...  \n",
       "1  CREATE TABLE \"directors\" (\\n\"movie_id\" TEXT,\\n...  \n",
       "2  CREATE TABLE \"known_for\" (\\n\"person_id\" TEXT,\\...  \n",
       "3  CREATE TABLE \"movie_akas\" (\\n\"movie_id\" TEXT,\\...  \n",
       "4  CREATE TABLE \"movie_ratings\" (\\n\"movie_id\" TEX...  \n",
       "5  CREATE TABLE \"persons\" (\\n\"person_id\" TEXT,\\n ...  \n",
       "6  CREATE TABLE \"principals\" (\\n\"movie_id\" TEXT,\\...  \n",
       "7  CREATE TABLE \"writers\" (\\n\"movie_id\" TEXT,\\n  ...  "
      ]
     },
     "execution_count": 7,
     "metadata": {},
     "output_type": "execute_result"
    }
   ],
   "source": [
    "#Loading in the SQL data \n",
    "conn = sqlite3.connect('./zippedData/im.db/im.db')\n",
    "q = pd.read_sql(\"\"\"\n",
    "SELECT *\n",
    "FROM sqlite_master\n",
    "\n",
    "\"\"\", conn)\n",
    "q"
   ]
  },
  {
   "cell_type": "markdown",
   "metadata": {},
   "source": [
    "Here we can see all the tables contained in this SQL database, `movie_basics` is the table we'll go further into."
   ]
  },
  {
   "cell_type": "code",
   "execution_count": 8,
   "metadata": {
    "scrolled": false
   },
   "outputs": [
    {
     "data": {
      "text/html": [
       "<div>\n",
       "<style scoped>\n",
       "    .dataframe tbody tr th:only-of-type {\n",
       "        vertical-align: middle;\n",
       "    }\n",
       "\n",
       "    .dataframe tbody tr th {\n",
       "        vertical-align: top;\n",
       "    }\n",
       "\n",
       "    .dataframe thead th {\n",
       "        text-align: right;\n",
       "    }\n",
       "</style>\n",
       "<table border=\"1\" class=\"dataframe\">\n",
       "  <thead>\n",
       "    <tr style=\"text-align: right;\">\n",
       "      <th></th>\n",
       "      <th>movie_id</th>\n",
       "      <th>primary_title</th>\n",
       "      <th>original_title</th>\n",
       "      <th>start_year</th>\n",
       "      <th>runtime_minutes</th>\n",
       "      <th>genres</th>\n",
       "    </tr>\n",
       "  </thead>\n",
       "  <tbody>\n",
       "    <tr>\n",
       "      <th>0</th>\n",
       "      <td>tt0063540</td>\n",
       "      <td>Sunghursh</td>\n",
       "      <td>Sunghursh</td>\n",
       "      <td>2013</td>\n",
       "      <td>175.0</td>\n",
       "      <td>Action,Crime,Drama</td>\n",
       "    </tr>\n",
       "    <tr>\n",
       "      <th>1</th>\n",
       "      <td>tt0066787</td>\n",
       "      <td>One Day Before the Rainy Season</td>\n",
       "      <td>Ashad Ka Ek Din</td>\n",
       "      <td>2019</td>\n",
       "      <td>114.0</td>\n",
       "      <td>Biography,Drama</td>\n",
       "    </tr>\n",
       "    <tr>\n",
       "      <th>2</th>\n",
       "      <td>tt0069049</td>\n",
       "      <td>The Other Side of the Wind</td>\n",
       "      <td>The Other Side of the Wind</td>\n",
       "      <td>2018</td>\n",
       "      <td>122.0</td>\n",
       "      <td>Drama</td>\n",
       "    </tr>\n",
       "    <tr>\n",
       "      <th>3</th>\n",
       "      <td>tt0069204</td>\n",
       "      <td>Sabse Bada Sukh</td>\n",
       "      <td>Sabse Bada Sukh</td>\n",
       "      <td>2018</td>\n",
       "      <td>NaN</td>\n",
       "      <td>Comedy,Drama</td>\n",
       "    </tr>\n",
       "    <tr>\n",
       "      <th>4</th>\n",
       "      <td>tt0100275</td>\n",
       "      <td>The Wandering Soap Opera</td>\n",
       "      <td>La Telenovela Errante</td>\n",
       "      <td>2017</td>\n",
       "      <td>80.0</td>\n",
       "      <td>Comedy,Drama,Fantasy</td>\n",
       "    </tr>\n",
       "    <tr>\n",
       "      <th>5</th>\n",
       "      <td>tt0111414</td>\n",
       "      <td>A Thin Life</td>\n",
       "      <td>A Thin Life</td>\n",
       "      <td>2018</td>\n",
       "      <td>75.0</td>\n",
       "      <td>Comedy</td>\n",
       "    </tr>\n",
       "    <tr>\n",
       "      <th>6</th>\n",
       "      <td>tt0112502</td>\n",
       "      <td>Bigfoot</td>\n",
       "      <td>Bigfoot</td>\n",
       "      <td>2017</td>\n",
       "      <td>NaN</td>\n",
       "      <td>Horror,Thriller</td>\n",
       "    </tr>\n",
       "    <tr>\n",
       "      <th>7</th>\n",
       "      <td>tt0137204</td>\n",
       "      <td>Joe Finds Grace</td>\n",
       "      <td>Joe Finds Grace</td>\n",
       "      <td>2017</td>\n",
       "      <td>83.0</td>\n",
       "      <td>Adventure,Animation,Comedy</td>\n",
       "    </tr>\n",
       "    <tr>\n",
       "      <th>8</th>\n",
       "      <td>tt0139613</td>\n",
       "      <td>O Silêncio</td>\n",
       "      <td>O Silêncio</td>\n",
       "      <td>2012</td>\n",
       "      <td>NaN</td>\n",
       "      <td>Documentary,History</td>\n",
       "    </tr>\n",
       "    <tr>\n",
       "      <th>9</th>\n",
       "      <td>tt0144449</td>\n",
       "      <td>Nema aviona za Zagreb</td>\n",
       "      <td>Nema aviona za Zagreb</td>\n",
       "      <td>2012</td>\n",
       "      <td>82.0</td>\n",
       "      <td>Biography</td>\n",
       "    </tr>\n",
       "  </tbody>\n",
       "</table>\n",
       "</div>"
      ],
      "text/plain": [
       "    movie_id                    primary_title              original_title  \\\n",
       "0  tt0063540                        Sunghursh                   Sunghursh   \n",
       "1  tt0066787  One Day Before the Rainy Season             Ashad Ka Ek Din   \n",
       "2  tt0069049       The Other Side of the Wind  The Other Side of the Wind   \n",
       "3  tt0069204                  Sabse Bada Sukh             Sabse Bada Sukh   \n",
       "4  tt0100275         The Wandering Soap Opera       La Telenovela Errante   \n",
       "5  tt0111414                      A Thin Life                 A Thin Life   \n",
       "6  tt0112502                          Bigfoot                     Bigfoot   \n",
       "7  tt0137204                  Joe Finds Grace             Joe Finds Grace   \n",
       "8  tt0139613                       O Silêncio                  O Silêncio   \n",
       "9  tt0144449            Nema aviona za Zagreb       Nema aviona za Zagreb   \n",
       "\n",
       "   start_year  runtime_minutes                      genres  \n",
       "0        2013            175.0          Action,Crime,Drama  \n",
       "1        2019            114.0             Biography,Drama  \n",
       "2        2018            122.0                       Drama  \n",
       "3        2018              NaN                Comedy,Drama  \n",
       "4        2017             80.0        Comedy,Drama,Fantasy  \n",
       "5        2018             75.0                      Comedy  \n",
       "6        2017              NaN             Horror,Thriller  \n",
       "7        2017             83.0  Adventure,Animation,Comedy  \n",
       "8        2012              NaN         Documentary,History  \n",
       "9        2012             82.0                   Biography  "
      ]
     },
     "execution_count": 8,
     "metadata": {},
     "output_type": "execute_result"
    }
   ],
   "source": [
    "#Exploring the 'movie_basics' table\n",
    "q = pd.read_sql(\"\"\"\n",
    "\n",
    "SELECT *\n",
    "FROM movie_basics\n",
    "LIMIT 10\n",
    "\n",
    "\"\"\", conn)\n",
    "q"
   ]
  },
  {
   "cell_type": "code",
   "execution_count": 9,
   "metadata": {
    "scrolled": true
   },
   "outputs": [
    {
     "data": {
      "text/html": [
       "<div>\n",
       "<style scoped>\n",
       "    .dataframe tbody tr th:only-of-type {\n",
       "        vertical-align: middle;\n",
       "    }\n",
       "\n",
       "    .dataframe tbody tr th {\n",
       "        vertical-align: top;\n",
       "    }\n",
       "\n",
       "    .dataframe thead th {\n",
       "        text-align: right;\n",
       "    }\n",
       "</style>\n",
       "<table border=\"1\" class=\"dataframe\">\n",
       "  <thead>\n",
       "    <tr style=\"text-align: right;\">\n",
       "      <th></th>\n",
       "      <th>primary_title</th>\n",
       "      <th>runtime_minutes</th>\n",
       "    </tr>\n",
       "  </thead>\n",
       "  <tbody>\n",
       "    <tr>\n",
       "      <th>0</th>\n",
       "      <td>The Wandering Soap Opera</td>\n",
       "      <td>80.0</td>\n",
       "    </tr>\n",
       "    <tr>\n",
       "      <th>1</th>\n",
       "      <td>A Thin Life</td>\n",
       "      <td>75.0</td>\n",
       "    </tr>\n",
       "    <tr>\n",
       "      <th>2</th>\n",
       "      <td>Joe Finds Grace</td>\n",
       "      <td>83.0</td>\n",
       "    </tr>\n",
       "    <tr>\n",
       "      <th>3</th>\n",
       "      <td>Nema aviona za Zagreb</td>\n",
       "      <td>82.0</td>\n",
       "    </tr>\n",
       "    <tr>\n",
       "      <th>4</th>\n",
       "      <td>Children of the Green Dragon</td>\n",
       "      <td>89.0</td>\n",
       "    </tr>\n",
       "    <tr>\n",
       "      <th>...</th>\n",
       "      <td>...</td>\n",
       "      <td>...</td>\n",
       "    </tr>\n",
       "    <tr>\n",
       "      <th>62421</th>\n",
       "      <td>A Cherry Tale</td>\n",
       "      <td>85.0</td>\n",
       "    </tr>\n",
       "    <tr>\n",
       "      <th>62422</th>\n",
       "      <td>Vida em Movimento</td>\n",
       "      <td>70.0</td>\n",
       "    </tr>\n",
       "    <tr>\n",
       "      <th>62423</th>\n",
       "      <td>Drømmeland</td>\n",
       "      <td>72.0</td>\n",
       "    </tr>\n",
       "    <tr>\n",
       "      <th>62424</th>\n",
       "      <td>The Rehearsal</td>\n",
       "      <td>51.0</td>\n",
       "    </tr>\n",
       "    <tr>\n",
       "      <th>62425</th>\n",
       "      <td>Illenau - die Geschichte einer ehemaligen Heil...</td>\n",
       "      <td>84.0</td>\n",
       "    </tr>\n",
       "  </tbody>\n",
       "</table>\n",
       "<p>62426 rows × 2 columns</p>\n",
       "</div>"
      ],
      "text/plain": [
       "                                           primary_title  runtime_minutes\n",
       "0                               The Wandering Soap Opera             80.0\n",
       "1                                            A Thin Life             75.0\n",
       "2                                        Joe Finds Grace             83.0\n",
       "3                                  Nema aviona za Zagreb             82.0\n",
       "4                           Children of the Green Dragon             89.0\n",
       "...                                                  ...              ...\n",
       "62421                                      A Cherry Tale             85.0\n",
       "62422                                  Vida em Movimento             70.0\n",
       "62423                                         Drømmeland             72.0\n",
       "62424                                      The Rehearsal             51.0\n",
       "62425  Illenau - die Geschichte einer ehemaligen Heil...             84.0\n",
       "\n",
       "[62426 rows x 2 columns]"
      ]
     },
     "execution_count": 9,
     "metadata": {},
     "output_type": "execute_result"
    }
   ],
   "source": [
    "#Creating a DataFrame 'less_90' containing all movies with runtimes less than 90 minutes\n",
    "less_90 = pd.read_sql(\"\"\"\n",
    "\n",
    "SELECT DISTINCT primary_title, runtime_minutes\n",
    "FROM movie_basics\n",
    "WHERE runtime_minutes < 90\n",
    "\n",
    "\"\"\", conn)\n",
    "less_90"
   ]
  },
  {
   "cell_type": "code",
   "execution_count": 10,
   "metadata": {
    "scrolled": true
   },
   "outputs": [
    {
     "data": {
      "text/html": [
       "<div>\n",
       "<style scoped>\n",
       "    .dataframe tbody tr th:only-of-type {\n",
       "        vertical-align: middle;\n",
       "    }\n",
       "\n",
       "    .dataframe tbody tr th {\n",
       "        vertical-align: top;\n",
       "    }\n",
       "\n",
       "    .dataframe thead th {\n",
       "        text-align: right;\n",
       "    }\n",
       "</style>\n",
       "<table border=\"1\" class=\"dataframe\">\n",
       "  <thead>\n",
       "    <tr style=\"text-align: right;\">\n",
       "      <th></th>\n",
       "      <th>primary_title</th>\n",
       "      <th>runtime_minutes</th>\n",
       "    </tr>\n",
       "  </thead>\n",
       "  <tbody>\n",
       "    <tr>\n",
       "      <th>0</th>\n",
       "      <td>Sunghursh</td>\n",
       "      <td>175.0</td>\n",
       "    </tr>\n",
       "    <tr>\n",
       "      <th>1</th>\n",
       "      <td>One Day Before the Rainy Season</td>\n",
       "      <td>114.0</td>\n",
       "    </tr>\n",
       "    <tr>\n",
       "      <th>2</th>\n",
       "      <td>The Other Side of the Wind</td>\n",
       "      <td>122.0</td>\n",
       "    </tr>\n",
       "    <tr>\n",
       "      <th>3</th>\n",
       "      <td>Pál Adrienn</td>\n",
       "      <td>136.0</td>\n",
       "    </tr>\n",
       "    <tr>\n",
       "      <th>4</th>\n",
       "      <td>So Much for Justice!</td>\n",
       "      <td>100.0</td>\n",
       "    </tr>\n",
       "    <tr>\n",
       "      <th>...</th>\n",
       "      <td>...</td>\n",
       "      <td>...</td>\n",
       "    </tr>\n",
       "    <tr>\n",
       "      <th>44508</th>\n",
       "      <td>The War of Godzilla</td>\n",
       "      <td>102.0</td>\n",
       "    </tr>\n",
       "    <tr>\n",
       "      <th>44509</th>\n",
       "      <td>The Last White Witch</td>\n",
       "      <td>97.0</td>\n",
       "    </tr>\n",
       "    <tr>\n",
       "      <th>44510</th>\n",
       "      <td>The Mystery of a Buryat Lama</td>\n",
       "      <td>94.0</td>\n",
       "    </tr>\n",
       "    <tr>\n",
       "      <th>44511</th>\n",
       "      <td>Kuambil Lagi Hatiku</td>\n",
       "      <td>123.0</td>\n",
       "    </tr>\n",
       "    <tr>\n",
       "      <th>44512</th>\n",
       "      <td>6 Gunn</td>\n",
       "      <td>116.0</td>\n",
       "    </tr>\n",
       "  </tbody>\n",
       "</table>\n",
       "<p>44513 rows × 2 columns</p>\n",
       "</div>"
      ],
      "text/plain": [
       "                         primary_title  runtime_minutes\n",
       "0                            Sunghursh            175.0\n",
       "1      One Day Before the Rainy Season            114.0\n",
       "2           The Other Side of the Wind            122.0\n",
       "3                          Pál Adrienn            136.0\n",
       "4                 So Much for Justice!            100.0\n",
       "...                                ...              ...\n",
       "44508              The War of Godzilla            102.0\n",
       "44509             The Last White Witch             97.0\n",
       "44510     The Mystery of a Buryat Lama             94.0\n",
       "44511              Kuambil Lagi Hatiku            123.0\n",
       "44512                           6 Gunn            116.0\n",
       "\n",
       "[44513 rows x 2 columns]"
      ]
     },
     "execution_count": 10,
     "metadata": {},
     "output_type": "execute_result"
    }
   ],
   "source": [
    "##Creating a DataFrame 'more_90' containing all movies with runtimes more than 90 minutes\n",
    "more_90 = pd.read_sql(\"\"\"\n",
    "\n",
    "SELECT DISTINCT primary_title, runtime_minutes\n",
    "FROM movie_basics\n",
    "WHERE runtime_minutes > 90\n",
    "\n",
    "\"\"\", conn)\n",
    "more_90"
   ]
  },
  {
   "cell_type": "markdown",
   "metadata": {},
   "source": [
    "### Cleaning the `more_90` and `less_90` DataFrames"
   ]
  },
  {
   "cell_type": "code",
   "execution_count": 11,
   "metadata": {},
   "outputs": [],
   "source": [
    "# Getting rid of all duplicates, no null values to worry about\n",
    "more_90.drop_duplicates(subset='primary_title', keep=False, inplace=True)\n",
    "less_90.drop_duplicates(subset='primary_title', keep=False, inplace=True)"
   ]
  },
  {
   "cell_type": "markdown",
   "metadata": {},
   "source": [
    "### Loading in `budgets` and Merging with `more_90` and `less_90`"
   ]
  },
  {
   "cell_type": "code",
   "execution_count": 12,
   "metadata": {},
   "outputs": [],
   "source": [
    "# Loading in a new DataFrame\n",
    "budgets = pd.read_csv('zippedData/tn.movie_budgets.csv.gz')"
   ]
  },
  {
   "cell_type": "code",
   "execution_count": 13,
   "metadata": {},
   "outputs": [
    {
     "data": {
      "text/html": [
       "<div>\n",
       "<style scoped>\n",
       "    .dataframe tbody tr th:only-of-type {\n",
       "        vertical-align: middle;\n",
       "    }\n",
       "\n",
       "    .dataframe tbody tr th {\n",
       "        vertical-align: top;\n",
       "    }\n",
       "\n",
       "    .dataframe thead th {\n",
       "        text-align: right;\n",
       "    }\n",
       "</style>\n",
       "<table border=\"1\" class=\"dataframe\">\n",
       "  <thead>\n",
       "    <tr style=\"text-align: right;\">\n",
       "      <th></th>\n",
       "      <th>id</th>\n",
       "      <th>release_date</th>\n",
       "      <th>movie</th>\n",
       "      <th>production_budget</th>\n",
       "      <th>domestic_gross</th>\n",
       "      <th>worldwide_gross</th>\n",
       "    </tr>\n",
       "  </thead>\n",
       "  <tbody>\n",
       "    <tr>\n",
       "      <th>0</th>\n",
       "      <td>1</td>\n",
       "      <td>Dec 18, 2009</td>\n",
       "      <td>Avatar</td>\n",
       "      <td>$425,000,000</td>\n",
       "      <td>$760,507,625</td>\n",
       "      <td>$2,776,345,279</td>\n",
       "    </tr>\n",
       "    <tr>\n",
       "      <th>1</th>\n",
       "      <td>2</td>\n",
       "      <td>May 20, 2011</td>\n",
       "      <td>Pirates of the Caribbean: On Stranger Tides</td>\n",
       "      <td>$410,600,000</td>\n",
       "      <td>$241,063,875</td>\n",
       "      <td>$1,045,663,875</td>\n",
       "    </tr>\n",
       "    <tr>\n",
       "      <th>2</th>\n",
       "      <td>3</td>\n",
       "      <td>Jun 7, 2019</td>\n",
       "      <td>Dark Phoenix</td>\n",
       "      <td>$350,000,000</td>\n",
       "      <td>$42,762,350</td>\n",
       "      <td>$149,762,350</td>\n",
       "    </tr>\n",
       "    <tr>\n",
       "      <th>3</th>\n",
       "      <td>4</td>\n",
       "      <td>May 1, 2015</td>\n",
       "      <td>Avengers: Age of Ultron</td>\n",
       "      <td>$330,600,000</td>\n",
       "      <td>$459,005,868</td>\n",
       "      <td>$1,403,013,963</td>\n",
       "    </tr>\n",
       "    <tr>\n",
       "      <th>4</th>\n",
       "      <td>5</td>\n",
       "      <td>Dec 15, 2017</td>\n",
       "      <td>Star Wars Ep. VIII: The Last Jedi</td>\n",
       "      <td>$317,000,000</td>\n",
       "      <td>$620,181,382</td>\n",
       "      <td>$1,316,721,747</td>\n",
       "    </tr>\n",
       "  </tbody>\n",
       "</table>\n",
       "</div>"
      ],
      "text/plain": [
       "   id  release_date                                        movie  \\\n",
       "0   1  Dec 18, 2009                                       Avatar   \n",
       "1   2  May 20, 2011  Pirates of the Caribbean: On Stranger Tides   \n",
       "2   3   Jun 7, 2019                                 Dark Phoenix   \n",
       "3   4   May 1, 2015                      Avengers: Age of Ultron   \n",
       "4   5  Dec 15, 2017            Star Wars Ep. VIII: The Last Jedi   \n",
       "\n",
       "  production_budget domestic_gross worldwide_gross  \n",
       "0      $425,000,000   $760,507,625  $2,776,345,279  \n",
       "1      $410,600,000   $241,063,875  $1,045,663,875  \n",
       "2      $350,000,000    $42,762,350    $149,762,350  \n",
       "3      $330,600,000   $459,005,868  $1,403,013,963  \n",
       "4      $317,000,000   $620,181,382  $1,316,721,747  "
      ]
     },
     "execution_count": 13,
     "metadata": {},
     "output_type": "execute_result"
    }
   ],
   "source": [
    "budgets.head()"
   ]
  },
  {
   "cell_type": "code",
   "execution_count": 14,
   "metadata": {},
   "outputs": [],
   "source": [
    "# Getting rid of all duplicates, no null values to worry about\n",
    "budgets.drop_duplicates(subset='movie', keep=False, inplace=True)"
   ]
  },
  {
   "cell_type": "code",
   "execution_count": 15,
   "metadata": {},
   "outputs": [],
   "source": [
    "# Creating 2 new DataFrames by merging more_90 with budgets and less_90 with budgets.\n",
    "# Merged using the titles of shared films between the DataFrames.\n",
    "more_90_budgets = more_90.merge(budgets, how='inner', left_on='primary_title', right_on='movie')\n",
    "less_90_budgets = less_90.merge(budgets, how='inner', left_on='primary_title', right_on='movie')"
   ]
  },
  {
   "cell_type": "code",
   "execution_count": 16,
   "metadata": {
    "scrolled": false
   },
   "outputs": [
    {
     "data": {
      "text/html": [
       "<div>\n",
       "<style scoped>\n",
       "    .dataframe tbody tr th:only-of-type {\n",
       "        vertical-align: middle;\n",
       "    }\n",
       "\n",
       "    .dataframe tbody tr th {\n",
       "        vertical-align: top;\n",
       "    }\n",
       "\n",
       "    .dataframe thead th {\n",
       "        text-align: right;\n",
       "    }\n",
       "</style>\n",
       "<table border=\"1\" class=\"dataframe\">\n",
       "  <thead>\n",
       "    <tr style=\"text-align: right;\">\n",
       "      <th></th>\n",
       "      <th>primary_title</th>\n",
       "      <th>runtime_minutes</th>\n",
       "      <th>id</th>\n",
       "      <th>release_date</th>\n",
       "      <th>movie</th>\n",
       "      <th>production_budget</th>\n",
       "      <th>domestic_gross</th>\n",
       "      <th>worldwide_gross</th>\n",
       "    </tr>\n",
       "  </thead>\n",
       "  <tbody>\n",
       "    <tr>\n",
       "      <th>0</th>\n",
       "      <td>Foodfight!</td>\n",
       "      <td>91.0</td>\n",
       "      <td>26</td>\n",
       "      <td>Dec 31, 2012</td>\n",
       "      <td>Foodfight!</td>\n",
       "      <td>$45,000,000</td>\n",
       "      <td>$0</td>\n",
       "      <td>$73,706</td>\n",
       "    </tr>\n",
       "    <tr>\n",
       "      <th>1</th>\n",
       "      <td>The Secret Life of Walter Mitty</td>\n",
       "      <td>114.0</td>\n",
       "      <td>37</td>\n",
       "      <td>Dec 25, 2013</td>\n",
       "      <td>The Secret Life of Walter Mitty</td>\n",
       "      <td>$91,000,000</td>\n",
       "      <td>$58,236,838</td>\n",
       "      <td>$187,861,183</td>\n",
       "    </tr>\n",
       "    <tr>\n",
       "      <th>2</th>\n",
       "      <td>A Walk Among the Tombstones</td>\n",
       "      <td>114.0</td>\n",
       "      <td>67</td>\n",
       "      <td>Sep 19, 2014</td>\n",
       "      <td>A Walk Among the Tombstones</td>\n",
       "      <td>$28,000,000</td>\n",
       "      <td>$26,017,685</td>\n",
       "      <td>$62,108,587</td>\n",
       "    </tr>\n",
       "    <tr>\n",
       "      <th>3</th>\n",
       "      <td>Jurassic World</td>\n",
       "      <td>124.0</td>\n",
       "      <td>34</td>\n",
       "      <td>Jun 12, 2015</td>\n",
       "      <td>Jurassic World</td>\n",
       "      <td>$215,000,000</td>\n",
       "      <td>$652,270,625</td>\n",
       "      <td>$1,648,854,864</td>\n",
       "    </tr>\n",
       "    <tr>\n",
       "      <th>4</th>\n",
       "      <td>The Rum Diary</td>\n",
       "      <td>119.0</td>\n",
       "      <td>16</td>\n",
       "      <td>Oct 28, 2011</td>\n",
       "      <td>The Rum Diary</td>\n",
       "      <td>$45,000,000</td>\n",
       "      <td>$13,109,815</td>\n",
       "      <td>$21,544,732</td>\n",
       "    </tr>\n",
       "  </tbody>\n",
       "</table>\n",
       "</div>"
      ],
      "text/plain": [
       "                     primary_title  runtime_minutes  id  release_date  \\\n",
       "0                       Foodfight!             91.0  26  Dec 31, 2012   \n",
       "1  The Secret Life of Walter Mitty            114.0  37  Dec 25, 2013   \n",
       "2      A Walk Among the Tombstones            114.0  67  Sep 19, 2014   \n",
       "3                   Jurassic World            124.0  34  Jun 12, 2015   \n",
       "4                    The Rum Diary            119.0  16  Oct 28, 2011   \n",
       "\n",
       "                             movie production_budget domestic_gross  \\\n",
       "0                       Foodfight!       $45,000,000             $0   \n",
       "1  The Secret Life of Walter Mitty       $91,000,000    $58,236,838   \n",
       "2      A Walk Among the Tombstones       $28,000,000    $26,017,685   \n",
       "3                   Jurassic World      $215,000,000   $652,270,625   \n",
       "4                    The Rum Diary       $45,000,000    $13,109,815   \n",
       "\n",
       "  worldwide_gross  \n",
       "0         $73,706  \n",
       "1    $187,861,183  \n",
       "2     $62,108,587  \n",
       "3  $1,648,854,864  \n",
       "4     $21,544,732  "
      ]
     },
     "execution_count": 16,
     "metadata": {},
     "output_type": "execute_result"
    }
   ],
   "source": [
    "more_90_budgets.head()"
   ]
  },
  {
   "cell_type": "code",
   "execution_count": 17,
   "metadata": {},
   "outputs": [
    {
     "data": {
      "text/html": [
       "<div>\n",
       "<style scoped>\n",
       "    .dataframe tbody tr th:only-of-type {\n",
       "        vertical-align: middle;\n",
       "    }\n",
       "\n",
       "    .dataframe tbody tr th {\n",
       "        vertical-align: top;\n",
       "    }\n",
       "\n",
       "    .dataframe thead th {\n",
       "        text-align: right;\n",
       "    }\n",
       "</style>\n",
       "<table border=\"1\" class=\"dataframe\">\n",
       "  <thead>\n",
       "    <tr style=\"text-align: right;\">\n",
       "      <th></th>\n",
       "      <th>primary_title</th>\n",
       "      <th>runtime_minutes</th>\n",
       "      <th>id</th>\n",
       "      <th>release_date</th>\n",
       "      <th>movie</th>\n",
       "      <th>production_budget</th>\n",
       "      <th>domestic_gross</th>\n",
       "      <th>worldwide_gross</th>\n",
       "    </tr>\n",
       "  </thead>\n",
       "  <tbody>\n",
       "    <tr>\n",
       "      <th>0</th>\n",
       "      <td>Piranha 3D</td>\n",
       "      <td>88.0</td>\n",
       "      <td>52</td>\n",
       "      <td>Aug 20, 2010</td>\n",
       "      <td>Piranha 3D</td>\n",
       "      <td>$24,000,000</td>\n",
       "      <td>$25,003,155</td>\n",
       "      <td>$83,660,160</td>\n",
       "    </tr>\n",
       "    <tr>\n",
       "      <th>1</th>\n",
       "      <td>Priest</td>\n",
       "      <td>87.0</td>\n",
       "      <td>29</td>\n",
       "      <td>May 13, 2011</td>\n",
       "      <td>Priest</td>\n",
       "      <td>$60,000,000</td>\n",
       "      <td>$29,136,626</td>\n",
       "      <td>$84,154,026</td>\n",
       "    </tr>\n",
       "    <tr>\n",
       "      <th>2</th>\n",
       "      <td>Red State</td>\n",
       "      <td>88.0</td>\n",
       "      <td>22</td>\n",
       "      <td>Sep 23, 2011</td>\n",
       "      <td>Red State</td>\n",
       "      <td>$4,000,000</td>\n",
       "      <td>$1,065,429</td>\n",
       "      <td>$1,983,596</td>\n",
       "    </tr>\n",
       "    <tr>\n",
       "      <th>3</th>\n",
       "      <td>Please Give</td>\n",
       "      <td>87.0</td>\n",
       "      <td>15</td>\n",
       "      <td>Apr 30, 2010</td>\n",
       "      <td>Please Give</td>\n",
       "      <td>$3,000,000</td>\n",
       "      <td>$4,033,574</td>\n",
       "      <td>$4,570,178</td>\n",
       "    </tr>\n",
       "    <tr>\n",
       "      <th>4</th>\n",
       "      <td>The Dead Undead</td>\n",
       "      <td>89.0</td>\n",
       "      <td>7</td>\n",
       "      <td>Dec 31, 2010</td>\n",
       "      <td>The Dead Undead</td>\n",
       "      <td>$1,100,000</td>\n",
       "      <td>$0</td>\n",
       "      <td>$0</td>\n",
       "    </tr>\n",
       "  </tbody>\n",
       "</table>\n",
       "</div>"
      ],
      "text/plain": [
       "     primary_title  runtime_minutes  id  release_date            movie  \\\n",
       "0       Piranha 3D             88.0  52  Aug 20, 2010       Piranha 3D   \n",
       "1           Priest             87.0  29  May 13, 2011           Priest   \n",
       "2        Red State             88.0  22  Sep 23, 2011        Red State   \n",
       "3      Please Give             87.0  15  Apr 30, 2010      Please Give   \n",
       "4  The Dead Undead             89.0   7  Dec 31, 2010  The Dead Undead   \n",
       "\n",
       "  production_budget domestic_gross worldwide_gross  \n",
       "0       $24,000,000    $25,003,155     $83,660,160  \n",
       "1       $60,000,000    $29,136,626     $84,154,026  \n",
       "2        $4,000,000     $1,065,429      $1,983,596  \n",
       "3        $3,000,000     $4,033,574      $4,570,178  \n",
       "4        $1,100,000             $0              $0  "
      ]
     },
     "execution_count": 17,
     "metadata": {},
     "output_type": "execute_result"
    }
   ],
   "source": [
    "less_90_budgets.head()"
   ]
  },
  {
   "cell_type": "markdown",
   "metadata": {},
   "source": [
    "### Cleaning `more_90_budgets` and `less_90_budgets`"
   ]
  },
  {
   "cell_type": "code",
   "execution_count": 18,
   "metadata": {},
   "outputs": [],
   "source": [
    "# For columns that will be used, getting rid of dollar signs and commas.\n",
    "# After this they can be turned into floats.\n",
    "more_90_budgets['production_budget'] = more_90_budgets['production_budget'].str.strip('$')\n",
    "more_90_budgets['production_budget'] = more_90_budgets['production_budget'].str.replace(',','')\n",
    "more_90_budgets['worldwide_gross'] = more_90_budgets['worldwide_gross'].str.strip('$')\n",
    "more_90_budgets['worldwide_gross'] = more_90_budgets['worldwide_gross'].str.replace(',' , '')\n",
    "more_90_budgets['worldwide_gross'] = more_90_budgets['worldwide_gross'].astype(float)\n",
    "more_90_budgets['production_budget'] = more_90_budgets['production_budget'].astype(float)"
   ]
  },
  {
   "cell_type": "code",
   "execution_count": 19,
   "metadata": {},
   "outputs": [],
   "source": [
    "# Creating a new column named 'profit' using 'worldwide_gross' minus 'production_budget'\n",
    "more_90_budgets['profit'] = more_90_budgets['worldwide_gross'] - more_90_budgets['production_budget']"
   ]
  },
  {
   "cell_type": "markdown",
   "metadata": {},
   "source": [
    "#### Repeat the same cleaning process for `less_90_budgets`"
   ]
  },
  {
   "cell_type": "code",
   "execution_count": 20,
   "metadata": {},
   "outputs": [],
   "source": [
    "# For columns that will be used, getting rid of dollar signs and commas.\n",
    "# After this they can be turned into floats.\n",
    "less_90_budgets['production_budget'] = less_90_budgets['production_budget'].str.strip('$')\n",
    "less_90_budgets['production_budget'] = less_90_budgets['production_budget'].str.replace(',','')\n",
    "less_90_budgets['worldwide_gross'] = less_90_budgets['worldwide_gross'].str.strip('$')\n",
    "less_90_budgets['worldwide_gross'] = less_90_budgets['worldwide_gross'].str.replace(',' , '')\n",
    "less_90_budgets['worldwide_gross'] = less_90_budgets['worldwide_gross'].astype(float)\n",
    "less_90_budgets['production_budget'] = less_90_budgets['production_budget'].astype(float)"
   ]
  },
  {
   "cell_type": "code",
   "execution_count": 21,
   "metadata": {},
   "outputs": [],
   "source": [
    "# Creating a new column named 'profit' using 'worldwide_gross' minus 'production_budget'\n",
    "less_90_budgets['profit'] = less_90_budgets['worldwide_gross'] - less_90_budgets['production_budget']"
   ]
  },
  {
   "cell_type": "markdown",
   "metadata": {},
   "source": [
    "## Viewing Relationship of `profit` vs. `runtime_minutes` for Films < 90 mins and Films > 90 mins"
   ]
  },
  {
   "cell_type": "code",
   "execution_count": 22,
   "metadata": {
    "scrolled": false
   },
   "outputs": [
    {
     "data": {
      "image/png": "[encoded data removed]",
      "text/plain": [
       "<Figure size 432x288 with 1 Axes>"
      ]
     },
     "metadata": {
      "needs_background": "light"
     },
     "output_type": "display_data"
    }
   ],
   "source": [
    "# Scatter plot for movies shorter than 90 minutes\n",
    "less_90_budgets.plot.scatter(x='runtime_minutes', y='profit');"
   ]
  },
  {
   "cell_type": "code",
   "execution_count": 23,
   "metadata": {},
   "outputs": [
    {
     "data": {
      "image/png": "[encoded data removed]",
      "text/plain": [
       "<Figure size 432x288 with 1 Axes>"
      ]
     },
     "metadata": {
      "needs_background": "light"
     },
     "output_type": "display_data"
    }
   ],
   "source": [
    "# Scatter plot for movies longer than 90 minutes\n",
    "more_90_budgets.plot.scatter(x='runtime_minutes', y='profit');"
   ]
  },
  {
   "cell_type": "markdown",
   "metadata": {},
   "source": [
    "### The means below show a large difference between the average profits. It seems like films with runtimes longer than 90 minutes make more money on average than movies less than 90 minutes."
   ]
  },
  {
   "cell_type": "code",
   "execution_count": 24,
   "metadata": {},
   "outputs": [
    {
     "data": {
      "text/plain": [
       "(33499145.77137177, 87142312.36315086)"
      ]
     },
     "execution_count": 24,
     "metadata": {},
     "output_type": "execute_result"
    }
   ],
   "source": [
    "# Finding the mean profit for 'less_90_budgets' and 'more_90_budgets' \n",
    "less_90_budgets['profit'].mean(), more_90_budgets['profit'].mean()"
   ]
  },
  {
   "cell_type": "markdown",
   "metadata": {},
   "source": [
    "### We can find out if it's statistically significant with a 2 sample T-test. First, let's state our null hypothesis, alternative hypothesis, and alpha level.\n",
    "#### H0: Films with a runtime less than 90 mins and films with a runtime greater than 90 minutes return the same amount of profit on average.\n",
    "#### H1: Films with a runtime less than 90 mins and films with a runtime greater than 90 minutes return a different amount of profit on average.\n",
    "#### Alpha = 0.05 \n",
    "#### Now, let's run the test and check the results."
   ]
  },
  {
   "cell_type": "code",
   "execution_count": 25,
   "metadata": {},
   "outputs": [
    {
     "data": {
      "text/plain": [
       "(-8.222455972551126, 3.816735173488016e-16)"
      ]
     },
     "execution_count": 25,
     "metadata": {},
     "output_type": "execute_result"
    }
   ],
   "source": [
    "# Running a 2 sample ttest\n",
    "# alpha = 0.05\n",
    "tstat, pvalue = stats.ttest_ind(less_90_budgets['profit'], more_90_budgets['profit'], equal_var=False)\n",
    "tstat, pvalue"
   ]
  },
  {
   "cell_type": "markdown",
   "metadata": {},
   "source": [
    "### The pvalue is < 0.05 meaning we reject the null hypothesis. This concludes that on average, films with a runtime less than 90 mins and films with a runtime greater than 90 minutes return a different amount of profit on average.\n",
    "#### More specifically, films that are longer than 90 minutes return a greater profit on average.\n",
    "\n",
    "## Exploring how Runtime influences Popularity\n",
    "### Creating the `all_runtime`"
   ]
  },
  {
   "cell_type": "code",
   "execution_count": 26,
   "metadata": {
    "scrolled": true
   },
   "outputs": [
    {
     "data": {
      "text/html": [
       "<div>\n",
       "<style scoped>\n",
       "    .dataframe tbody tr th:only-of-type {\n",
       "        vertical-align: middle;\n",
       "    }\n",
       "\n",
       "    .dataframe tbody tr th {\n",
       "        vertical-align: top;\n",
       "    }\n",
       "\n",
       "    .dataframe thead th {\n",
       "        text-align: right;\n",
       "    }\n",
       "</style>\n",
       "<table border=\"1\" class=\"dataframe\">\n",
       "  <thead>\n",
       "    <tr style=\"text-align: right;\">\n",
       "      <th></th>\n",
       "      <th>primary_title</th>\n",
       "      <th>runtime_minutes</th>\n",
       "    </tr>\n",
       "  </thead>\n",
       "  <tbody>\n",
       "    <tr>\n",
       "      <th>0</th>\n",
       "      <td>Sunghursh</td>\n",
       "      <td>175.0</td>\n",
       "    </tr>\n",
       "    <tr>\n",
       "      <th>1</th>\n",
       "      <td>One Day Before the Rainy Season</td>\n",
       "      <td>114.0</td>\n",
       "    </tr>\n",
       "    <tr>\n",
       "      <th>2</th>\n",
       "      <td>The Other Side of the Wind</td>\n",
       "      <td>122.0</td>\n",
       "    </tr>\n",
       "    <tr>\n",
       "      <th>3</th>\n",
       "      <td>Sabse Bada Sukh</td>\n",
       "      <td>NaN</td>\n",
       "    </tr>\n",
       "    <tr>\n",
       "      <th>4</th>\n",
       "      <td>The Wandering Soap Opera</td>\n",
       "      <td>80.0</td>\n",
       "    </tr>\n",
       "    <tr>\n",
       "      <th>...</th>\n",
       "      <td>...</td>\n",
       "      <td>...</td>\n",
       "    </tr>\n",
       "    <tr>\n",
       "      <th>145055</th>\n",
       "      <td>Kuambil Lagi Hatiku</td>\n",
       "      <td>123.0</td>\n",
       "    </tr>\n",
       "    <tr>\n",
       "      <th>145056</th>\n",
       "      <td>Rodolpho Teóphilo - O Legado de um Pioneiro</td>\n",
       "      <td>NaN</td>\n",
       "    </tr>\n",
       "    <tr>\n",
       "      <th>145057</th>\n",
       "      <td>Dankyavar Danka</td>\n",
       "      <td>NaN</td>\n",
       "    </tr>\n",
       "    <tr>\n",
       "      <th>145058</th>\n",
       "      <td>6 Gunn</td>\n",
       "      <td>116.0</td>\n",
       "    </tr>\n",
       "    <tr>\n",
       "      <th>145059</th>\n",
       "      <td>Chico Albuquerque - Revelações</td>\n",
       "      <td>NaN</td>\n",
       "    </tr>\n",
       "  </tbody>\n",
       "</table>\n",
       "<p>145060 rows × 2 columns</p>\n",
       "</div>"
      ],
      "text/plain": [
       "                                      primary_title  runtime_minutes\n",
       "0                                         Sunghursh            175.0\n",
       "1                   One Day Before the Rainy Season            114.0\n",
       "2                        The Other Side of the Wind            122.0\n",
       "3                                   Sabse Bada Sukh              NaN\n",
       "4                          The Wandering Soap Opera             80.0\n",
       "...                                             ...              ...\n",
       "145055                          Kuambil Lagi Hatiku            123.0\n",
       "145056  Rodolpho Teóphilo - O Legado de um Pioneiro              NaN\n",
       "145057                              Dankyavar Danka              NaN\n",
       "145058                                       6 Gunn            116.0\n",
       "145059               Chico Albuquerque - Revelações              NaN\n",
       "\n",
       "[145060 rows x 2 columns]"
      ]
     },
     "execution_count": 26,
     "metadata": {},
     "output_type": "execute_result"
    }
   ],
   "source": [
    "# Creating a new DataFrame that contains all runtime lengths\n",
    "all_runtime = pd.read_sql(\"\"\"\n",
    "\n",
    "SELECT DISTINCT primary_title, runtime_minutes\n",
    "FROM movie_basics\n",
    "\n",
    "\n",
    "\"\"\", conn)\n",
    "all_runtime"
   ]
  },
  {
   "cell_type": "markdown",
   "metadata": {},
   "source": [
    "### Cleaning `all_runtime`"
   ]
  },
  {
   "cell_type": "code",
   "execution_count": 27,
   "metadata": {},
   "outputs": [],
   "source": [
    "# Getting rid of duplicates\n",
    "all_runtime.drop_duplicates(subset='primary_title', keep=False, inplace=True)"
   ]
  },
  {
   "cell_type": "markdown",
   "metadata": {},
   "source": [
    "### Merging `all_runtime` with `budgets`"
   ]
  },
  {
   "cell_type": "code",
   "execution_count": 28,
   "metadata": {},
   "outputs": [],
   "source": [
    "# Merging using the titles of shared films between the DataFrames.\n",
    "all_runtime_budgets = all_runtime.merge(budgets, how='inner', left_on='primary_title', right_on='movie')"
   ]
  },
  {
   "cell_type": "markdown",
   "metadata": {},
   "source": [
    "### Cleaning `all_runtime_budgets` \n",
    "Performing the same cleaning processes that were done for `more_90_budgets` and `less_90_budgets`"
   ]
  },
  {
   "cell_type": "code",
   "execution_count": 29,
   "metadata": {},
   "outputs": [],
   "source": [
    "# For columns that will be used, getting rid of dollar signs and commas.\n",
    "# After this they can be turned into floats.\n",
    "all_runtime_budgets['production_budget'] = all_runtime_budgets['production_budget'].str.strip('$')\n",
    "all_runtime_budgets['production_budget'] = all_runtime_budgets['production_budget'].str.replace(',','')\n",
    "all_runtime_budgets['production_budget'] = all_runtime_budgets['production_budget'].astype(float)\n",
    "all_runtime_budgets['worldwide_gross'] = all_runtime_budgets['worldwide_gross'].str.strip('$')\n",
    "all_runtime_budgets['worldwide_gross'] = all_runtime_budgets['worldwide_gross'].str.replace(',','')\n",
    "all_runtime_budgets['worldwide_gross'] = all_runtime_budgets['worldwide_gross'].astype(float)"
   ]
  },
  {
   "cell_type": "code",
   "execution_count": 30,
   "metadata": {},
   "outputs": [],
   "source": [
    "# Creating a new column named 'profit' using 'worldwide_gross' minus 'production_budget'\n",
    "all_runtime_budgets['profit'] = all_runtime_budgets['worldwide_gross'] - all_runtime_budgets['production_budget']"
   ]
  },
  {
   "cell_type": "markdown",
   "metadata": {},
   "source": [
    "### Creating `df_movies2`"
   ]
  },
  {
   "cell_type": "code",
   "execution_count": 31,
   "metadata": {},
   "outputs": [],
   "source": [
    "# Taking only the movie title and popularity rating from 'df_movies' DataFrame\n",
    "df_movies2 = df_movies[['original_title' , 'popularity']]"
   ]
  },
  {
   "cell_type": "markdown",
   "metadata": {},
   "source": [
    "### Merging `df_movies2` and `budgets` into `df_movies2_budgets`\n"
   ]
  },
  {
   "cell_type": "code",
   "execution_count": 32,
   "metadata": {},
   "outputs": [],
   "source": [
    "# Merged using the titles of the movies\n",
    "df_movies2_budgets = df_movies2.merge(all_runtime_budgets, how='inner', left_on='original_title', right_on='movie')"
   ]
  },
  {
   "cell_type": "markdown",
   "metadata": {},
   "source": [
    "### Cleaning `df_movies2_budgets`"
   ]
  },
  {
   "cell_type": "code",
   "execution_count": 33,
   "metadata": {},
   "outputs": [],
   "source": [
    "# Getting rid of null values\n",
    "df_movies2_budgets.dropna(subset=['runtime_minutes'], inplace=True)"
   ]
  },
  {
   "cell_type": "markdown",
   "metadata": {},
   "source": [
    "### Visually exploring the relationship between `runtime_minutes` and `popularity`"
   ]
  },
  {
   "cell_type": "code",
   "execution_count": 34,
   "metadata": {
    "scrolled": true
   },
   "outputs": [
    {
     "data": {
      "image/png": "[encoded data removed]",
      "text/plain": [
       "<Figure size 432x288 with 1 Axes>"
      ]
     },
     "metadata": {
      "needs_background": "light"
     },
     "output_type": "display_data"
    }
   ],
   "source": [
    "# Creating scatter plot\n",
    "df_movies2_budgets.plot.scatter(x='runtime_minutes', y='popularity');"
   ]
  },
  {
   "cell_type": "markdown",
   "metadata": {},
   "source": [
    "Above it's evident that there are some outliers that will poorly affect a linear regression. There looks to be about 8 values at the lowest end of `runtime_minutes` that are less than ~70 minutes. Then there are the two highest points with `popularity` greater than 70. It is in our best interest to get rid of these outliers to improve the results of a linear regression.\n",
    "\n",
    "### Getting rid of the outliers"
   ]
  },
  {
   "cell_type": "code",
   "execution_count": 35,
   "metadata": {},
   "outputs": [],
   "source": [
    "# Only keeping movies that have a runtime greater than or equal to 70 minutes \n",
    "df_movies2_budgets = df_movies2_budgets[df_movies2_budgets['runtime_minutes'] >= 70]"
   ]
  },
  {
   "cell_type": "code",
   "execution_count": 36,
   "metadata": {},
   "outputs": [],
   "source": [
    "# Only keeping movies that have a popularity score of less than 65\n",
    "df_movies2_budgets = df_movies2_budgets[df_movies2_budgets['popularity'] < 65]"
   ]
  },
  {
   "cell_type": "markdown",
   "metadata": {},
   "source": [
    "### Visually exploring the relationship now that the outliers are gone"
   ]
  },
  {
   "cell_type": "code",
   "execution_count": 37,
   "metadata": {
    "scrolled": false
   },
   "outputs": [
    {
     "data": {
      "image/png": "[encoded data removed]",
      "text/plain": [
       "<Figure size 432x288 with 1 Axes>"
      ]
     },
     "metadata": {
      "needs_background": "light"
     },
     "output_type": "display_data"
    }
   ],
   "source": [
    "# Creating scatter plot\n",
    "df_movies2_budgets.plot.scatter(x='runtime_minutes', y='popularity');"
   ]
  },
  {
   "cell_type": "markdown",
   "metadata": {},
   "source": [
    "The scatter plot above looks a lot better.\n",
    "\n",
    "### Rainbow test of linearity\n",
    "To make sure our data is linear (one of the four assumptions made when running a linear regression) we can run a rainbow test. The null hypothesis of this test is that the data is linear. We will set our alpha level at 0.01."
   ]
  },
  {
   "cell_type": "code",
   "execution_count": 38,
   "metadata": {
    "scrolled": true
   },
   "outputs": [
    {
     "data": {
      "text/plain": [
       "(1.1652991248217697, 0.019043354006588454)"
      ]
     },
     "execution_count": 38,
     "metadata": {},
     "output_type": "execute_result"
    }
   ],
   "source": [
    "# Running the rainbow test\n",
    "model = ols(\"popularity ~ runtime_minutes\", data=df_movies2_budgets).fit()\n",
    "F_statistic, p_value = linear_rainbow(res=model, frac=0.5)\n",
    "F_statistic, p_value"
   ]
  },
  {
   "cell_type": "markdown",
   "metadata": {},
   "source": [
    "The pvalue is > 0.01, meaning we fail to reject the null hypothesis and we can safely assume that our data is linear based on our test results.\n",
    "\n",
    "### Linear Regression for `runtime_minutes` and `popularity`"
   ]
  },
  {
   "cell_type": "code",
   "execution_count": 39,
   "metadata": {},
   "outputs": [
    {
     "name": "stdout",
     "output_type": "stream",
     "text": [
      "R-squared value:  0.19354842598937083\n"
     ]
    }
   ],
   "source": [
    "# Running the linear regression and printing the R-Squared value\n",
    "X = df_movies2_budgets[['runtime_minutes']]  \n",
    "y = df_movies2_budgets['popularity']  \n",
    "model = LinearRegression()\n",
    "model.fit(X, y)\n",
    "y_pred = model.predict(X)\n",
    "r_squared = model.score(X, y)\n",
    "print(\"R-squared value: \", r_squared)"
   ]
  },
  {
   "cell_type": "markdown",
   "metadata": {},
   "source": [
    "This R-Squared value means that about 19% of the popularity score a movie receives is explained by the runtime of the movie.\n",
    "\n",
    "## Conclusion\n",
    "Based on our data analysis we have three final recommendations:\n",
    "1. Work with one of our top studios because they have the highest gross revenues.\n",
    "2. Make movies under one of our top genres because these types of movies earn the highest ratings.\n",
    "3. Make movies that are longer than 90 minutes and aim around 120 minutes in length. These movies return the highest profits.\n",
    "\n",
    "## Next Steps\n",
    "\n",
    "- Explore which age rating (P, PG, PG-13, R) would be best\n",
    "- Explore which actors bring in the most revenue\n",
    "- Explore which directors are best for each genre"
   ]
  }
 ],
 "metadata": {
  "kernelspec": {
   "display_name": "Python (learn-env)",
   "language": "python",
   "name": "learn-env"
  },
  "language_info": {
   "codemirror_mode": {
    "name": "ipython",
    "version": 3
   },
   "file_extension": ".py",
   "mimetype": "text/x-python",
   "name": "python",
   "nbconvert_exporter": "python",
   "pygments_lexer": "ipython3",
   "version": "3.8.5"
  }
 },
 "nbformat": 4,
 "nbformat_minor": 4
}
