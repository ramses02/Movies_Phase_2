{
 "cells": [
  {
   "cell_type": "markdown",
   "metadata": {},
   "source": [
    "# Business Analysis: What Makes a Successful Film?\n",
    "## Overview\n",
    "This project analyzes different characteristics of films to determine what makes films more successful than others. Descriptive analysis of movie data from multiple sources shows that movies from certain studios, certain genres, and certain runtimes perfrom better than others based on profit, revenue and popularity. Movie producers can use this analysis to create movies that will perform successfully.\n",
    "## Business Problem\n",
    "A new movie producer wants as much information on the industry before they start making films. The soon to be producer we are providing this analysis for wants to know ways that they can assure movies they make will be successful. We have been tasked with providing actionable insights that will help forge how they make movies.\n",
    "## Data Sources\n",
    "The data used for this analysis comes from four different sources and were used for these main DataFrames:\n",
    "1. [IMDB](https://www.imdb.com/) - `less_90`,`more_90`,`all_runtime`\n",
    "2. [TheMovieDB](https://www.themoviedb.org/) - `df_gross`\n",
    "3. [Box Office Mojo](https://www.boxofficemojo.com/) - `df_gross`\n",
    "4. [The Numbers](https://www.the-numbers.com/) - `budgets`\n",
    "\n",
    "The most important information used from these sources were movie titles, runtime, revenue, profit, studios, genre, and popularity."
   ]
  },
  {
   "cell_type": "code",
   "execution_count": 1,
   "metadata": {},
   "outputs": [],
   "source": [
    "#importing everything we will need\n",
    "import pandas as pd\n",
    "import sqlite3\n",
    "import matplotlib.pyplot as plt\n",
    "import scipy.stats as stats\n",
    "import statsmodels.api as sm\n",
    "from statsmodels.formula.api import ols\n",
    "import numpy as np\n",
    "from statsmodels.formula.api import ols\n",
    "from scipy.stats.stats import pearsonr\n",
    "from sklearn.linear_model import LinearRegression\n",
    "from statsmodels.stats.diagnostic import linear_rainbow"
   ]
  },
  {
   "cell_type": "markdown",
   "metadata": {},
   "source": [
    "## Discovering the Relationship Between Total Gross Revenue and Production Studios\n",
    "### Initial Exploration and Cleaning of the DataFrame (loading `bom.movie_gross.csv.gz`)"
   ]
  },
  {
   "cell_type": "code",
   "execution_count": 2,
   "metadata": {},
   "outputs": [],
   "source": [
    "df_gross = pd.read_csv(\"./zippedData/bom.movie_gross.csv.gz\")\n",
    "df_gross['foreign_gross'] = df_gross['foreign_gross'].str.replace(',', '')\n",
    "df_gross['foreign_gross'] = df_gross['foreign_gross'].astype(float)\n",
    "df_gross.dropna(subset=['domestic_gross', 'foreign_gross'], inplace=True)\n",
    "#computing the total gross\n",
    "df_gross['total_gross']= df_gross['domestic_gross'] + df_gross['foreign_gross']"
   ]
  },
  {
   "cell_type": "markdown",
   "metadata": {},
   "source": [
    "### Grouping revenue by `studio` and generationg a DataFrame with top 10 production studios."
   ]
  },
  {
   "cell_type": "code",
   "execution_count": 3,
   "metadata": {},
   "outputs": [],
   "source": [
    "studio_group = df_gross.groupby('studio')\n",
    "avg_total = studio_group['total_gross'].mean()\n",
    "sorted_avg_total = avg_total.sort_values(ascending=False)\n",
    "top10studios = pd.DataFrame(sorted_avg_total).head(10)"
   ]
  },
  {
   "cell_type": "markdown",
   "metadata": {},
   "source": [
    "## Discovering the Relationship Between Movie Ratings and Genre"
   ]
  },
  {
   "cell_type": "markdown",
   "metadata": {},
   "source": [
    "### Transforming the genre codes into the genre names using `genre_ids`."
   ]
  },
  {
   "cell_type": "code",
   "execution_count": 4,
   "metadata": {},
   "outputs": [],
   "source": [
    "df_movies = pd.read_csv(\"./zippedData/tmdb.movies.csv.gz\")\n",
    "#we retreived the genre codes from The Movie Database website and substituted them for \n",
    "#the actual genre name.\n",
    "genre_mapping = {\n",
    "    28: \"Action\",\n",
    "    12: \"Adventure\",\n",
    "    16: \"Animation\",\n",
    "    35: \"Comedy\",\n",
    "    80: \"Crime\",\n",
    "    99: \"Documentary\",\n",
    "    18: \"Drama\",\n",
    "    10751: \"Family\",\n",
    "    14: \"Fantasy\",\n",
    "    36: \"History\",\n",
    "    27: \"Horror\",\n",
    "    10402: \"Music\",\n",
    "    9648: \"Mystery\",\n",
    "    10749: \"Romance\",\n",
    "    878: \"Science Fiction\",\n",
    "    10770: \"TV Movie\",\n",
    "    53: \"Thriller\",\n",
    "    10752: \"War\",\n",
    "    37: \"Western\"\n",
    "}\n",
    "\n",
    "import ast\n",
    "\n",
    "def convert_str_list(s):\n",
    "    try:\n",
    "        return ast.literal_eval(s)\n",
    "    except ValueError as e:\n",
    "        print(f\"Error for string: {s}\\nError is: {e}\")\n",
    "        return s    # return the original string in case of error\n",
    "def get_genre_names(genre_codes):\n",
    "    return [genre_mapping.get(code, \"Undefined\") for code in genre_codes]\n",
    "\n",
    "df_movies['genre_ids'] = df_movies['genre_ids'].apply(convert_str_list)\n",
    "df_movies['genre_names'] = df_movies['genre_ids'].apply(get_genre_names)\n",
    "\n",
    "df_movies['genre_names'] = df_movies['genre_names'].apply(lambda x: ', '.join(x))"
   ]
  },
  {
   "cell_type": "markdown",
   "metadata": {},
   "source": [
    "### Breaking down ratings for each individual genre and generating a DataFrame containing the top genres based on weighted rating with respect to `vote_count`."
   ]
  },
  {
   "cell_type": "code",
   "execution_count": 5,
   "metadata": {},
   "outputs": [],
   "source": [
    "df_movies['genre_names'] = df_movies['genre_names'].str.split(', ')\n",
    "df_exploded = df_movies.explode('genre_names')\n",
    "df_exploded['weighted_vote'] = df_exploded['vote_count'] * df_exploded['vote_average']\n",
    "df_weighted = df_exploded.groupby('genre_names').agg({'weighted_vote': 'sum', 'vote_count': 'sum'})\n",
    "df_weighted['average_rating'] = df_weighted['weighted_vote'] / df_weighted['vote_count']"
   ]
  },
  {
   "cell_type": "code",
   "execution_count": 6,
   "metadata": {
    "scrolled": true
   },
   "outputs": [
    {
     "data": {
      "text/html": [
       "<div>\n",
       "<style scoped>\n",
       "    .dataframe tbody tr th:only-of-type {\n",
       "        vertical-align: middle;\n",
       "    }\n",
       "\n",
       "    .dataframe tbody tr th {\n",
       "        vertical-align: top;\n",
       "    }\n",
       "\n",
       "    .dataframe thead th {\n",
       "        text-align: right;\n",
       "    }\n",
       "</style>\n",
       "<table border=\"1\" class=\"dataframe\">\n",
       "  <thead>\n",
       "    <tr style=\"text-align: right;\">\n",
       "      <th></th>\n",
       "      <th>genre_names</th>\n",
       "      <th>weighted_vote</th>\n",
       "      <th>vote_count</th>\n",
       "      <th>average_rating</th>\n",
       "    </tr>\n",
       "  </thead>\n",
       "  <tbody>\n",
       "    <tr>\n",
       "      <th>0</th>\n",
       "      <td>History</td>\n",
       "      <td>1431103.3</td>\n",
       "      <td>195600</td>\n",
       "      <td>7.316479</td>\n",
       "    </tr>\n",
       "    <tr>\n",
       "      <th>1</th>\n",
       "      <td>War</td>\n",
       "      <td>1024805.5</td>\n",
       "      <td>141336</td>\n",
       "      <td>7.250846</td>\n",
       "    </tr>\n",
       "    <tr>\n",
       "      <th>2</th>\n",
       "      <td>Animation</td>\n",
       "      <td>3643815.3</td>\n",
       "      <td>506612</td>\n",
       "      <td>7.192517</td>\n",
       "    </tr>\n",
       "    <tr>\n",
       "      <th>3</th>\n",
       "      <td>Documentary</td>\n",
       "      <td>446405.3</td>\n",
       "      <td>62283</td>\n",
       "      <td>7.167370</td>\n",
       "    </tr>\n",
       "    <tr>\n",
       "      <th>4</th>\n",
       "      <td>Music</td>\n",
       "      <td>624432.3</td>\n",
       "      <td>87434</td>\n",
       "      <td>7.141756</td>\n",
       "    </tr>\n",
       "    <tr>\n",
       "      <th>5</th>\n",
       "      <td>Western</td>\n",
       "      <td>655407.2</td>\n",
       "      <td>92667</td>\n",
       "      <td>7.072714</td>\n",
       "    </tr>\n",
       "    <tr>\n",
       "      <th>6</th>\n",
       "      <td>Family</td>\n",
       "      <td>4588380.8</td>\n",
       "      <td>652585</td>\n",
       "      <td>7.031085</td>\n",
       "    </tr>\n",
       "    <tr>\n",
       "      <th>7</th>\n",
       "      <td>Drama</td>\n",
       "      <td>14485381.9</td>\n",
       "      <td>2064637</td>\n",
       "      <td>7.015946</td>\n",
       "    </tr>\n",
       "    <tr>\n",
       "      <th>8</th>\n",
       "      <td>Adventure</td>\n",
       "      <td>11288628.2</td>\n",
       "      <td>1645828</td>\n",
       "      <td>6.858936</td>\n",
       "    </tr>\n",
       "    <tr>\n",
       "      <th>9</th>\n",
       "      <td>Romance</td>\n",
       "      <td>4249937.6</td>\n",
       "      <td>621223</td>\n",
       "      <td>6.841243</td>\n",
       "    </tr>\n",
       "    <tr>\n",
       "      <th>10</th>\n",
       "      <td>Science Fiction</td>\n",
       "      <td>8338121.6</td>\n",
       "      <td>1222644</td>\n",
       "      <td>6.819746</td>\n",
       "    </tr>\n",
       "    <tr>\n",
       "      <th>11</th>\n",
       "      <td>Fantasy</td>\n",
       "      <td>6106473.6</td>\n",
       "      <td>902816</td>\n",
       "      <td>6.763807</td>\n",
       "    </tr>\n",
       "    <tr>\n",
       "      <th>12</th>\n",
       "      <td>Crime</td>\n",
       "      <td>4265785.1</td>\n",
       "      <td>632691</td>\n",
       "      <td>6.742288</td>\n",
       "    </tr>\n",
       "    <tr>\n",
       "      <th>13</th>\n",
       "      <td>Action</td>\n",
       "      <td>12832945.6</td>\n",
       "      <td>1912290</td>\n",
       "      <td>6.710774</td>\n",
       "    </tr>\n",
       "    <tr>\n",
       "      <th>14</th>\n",
       "      <td>Comedy</td>\n",
       "      <td>9413909.5</td>\n",
       "      <td>1403883</td>\n",
       "      <td>6.705623</td>\n",
       "    </tr>\n",
       "    <tr>\n",
       "      <th>15</th>\n",
       "      <td>Mystery</td>\n",
       "      <td>2957638.9</td>\n",
       "      <td>442671</td>\n",
       "      <td>6.681348</td>\n",
       "    </tr>\n",
       "    <tr>\n",
       "      <th>16</th>\n",
       "      <td>Thriller</td>\n",
       "      <td>8771460.9</td>\n",
       "      <td>1342877</td>\n",
       "      <td>6.531842</td>\n",
       "    </tr>\n",
       "    <tr>\n",
       "      <th>17</th>\n",
       "      <td>TV Movie</td>\n",
       "      <td>207982.8</td>\n",
       "      <td>33383</td>\n",
       "      <td>6.230201</td>\n",
       "    </tr>\n",
       "    <tr>\n",
       "      <th>18</th>\n",
       "      <td>Horror</td>\n",
       "      <td>3051423.1</td>\n",
       "      <td>502490</td>\n",
       "      <td>6.072605</td>\n",
       "    </tr>\n",
       "    <tr>\n",
       "      <th>19</th>\n",
       "      <td></td>\n",
       "      <td>29840.5</td>\n",
       "      <td>4992</td>\n",
       "      <td>5.977664</td>\n",
       "    </tr>\n",
       "  </tbody>\n",
       "</table>\n",
       "</div>"
      ],
      "text/plain": [
       "        genre_names  weighted_vote  vote_count  average_rating\n",
       "0           History      1431103.3      195600        7.316479\n",
       "1               War      1024805.5      141336        7.250846\n",
       "2         Animation      3643815.3      506612        7.192517\n",
       "3       Documentary       446405.3       62283        7.167370\n",
       "4             Music       624432.3       87434        7.141756\n",
       "5           Western       655407.2       92667        7.072714\n",
       "6            Family      4588380.8      652585        7.031085\n",
       "7             Drama     14485381.9     2064637        7.015946\n",
       "8         Adventure     11288628.2     1645828        6.858936\n",
       "9           Romance      4249937.6      621223        6.841243\n",
       "10  Science Fiction      8338121.6     1222644        6.819746\n",
       "11          Fantasy      6106473.6      902816        6.763807\n",
       "12            Crime      4265785.1      632691        6.742288\n",
       "13           Action     12832945.6     1912290        6.710774\n",
       "14           Comedy      9413909.5     1403883        6.705623\n",
       "15          Mystery      2957638.9      442671        6.681348\n",
       "16         Thriller      8771460.9     1342877        6.531842\n",
       "17         TV Movie       207982.8       33383        6.230201\n",
       "18           Horror      3051423.1      502490        6.072605\n",
       "19                         29840.5        4992        5.977664"
      ]
     },
     "execution_count": 6,
     "metadata": {},
     "output_type": "execute_result"
    }
   ],
   "source": [
    "df_weighted = df_weighted.sort_values(by='average_rating', ascending=False)\n",
    "df_weighted.reset_index(inplace=True)\n",
    "df_weighted"
   ]
  },
  {
   "cell_type": "markdown",
   "metadata": {},
   "source": [
    "## Discovering Relationship between Runtime and Profit\n",
    "### Initial SQL Data Exploration (Loading in, creating DataFrames)"
   ]
  },
  {
   "cell_type": "code",
   "execution_count": 7,
   "metadata": {
    "scrolled": false
   },
   "outputs": [
    {
     "ename": "OperationalError",
     "evalue": "unable to open database file",
     "output_type": "error",
     "traceback": [
      "\u001b[0;31m---------------------------------------------------------------------------\u001b[0m",
      "\u001b[0;31mOperationalError\u001b[0m                          Traceback (most recent call last)",
      "\u001b[0;32m<ipython-input-7-4b0a81dc48ab>\u001b[0m in \u001b[0;36m<module>\u001b[0;34m\u001b[0m\n\u001b[1;32m      1\u001b[0m \u001b[0;31m#Loading in the SQL data\u001b[0m\u001b[0;34m\u001b[0m\u001b[0;34m\u001b[0m\u001b[0;34m\u001b[0m\u001b[0m\n\u001b[0;32m----> 2\u001b[0;31m \u001b[0mconn\u001b[0m \u001b[0;34m=\u001b[0m \u001b[0msqlite3\u001b[0m\u001b[0;34m.\u001b[0m\u001b[0mconnect\u001b[0m\u001b[0;34m(\u001b[0m\u001b[0;34m'./zippedData/im.db/im.db'\u001b[0m\u001b[0;34m)\u001b[0m\u001b[0;34m\u001b[0m\u001b[0;34m\u001b[0m\u001b[0m\n\u001b[0m\u001b[1;32m      3\u001b[0m q = pd.read_sql(\"\"\"\n\u001b[1;32m      4\u001b[0m \u001b[0mSELECT\u001b[0m \u001b[0;34m*\u001b[0m\u001b[0;34m\u001b[0m\u001b[0;34m\u001b[0m\u001b[0m\n\u001b[1;32m      5\u001b[0m \u001b[0mFROM\u001b[0m \u001b[0msqlite_master\u001b[0m\u001b[0;34m\u001b[0m\u001b[0;34m\u001b[0m\u001b[0m\n",
      "\u001b[0;31mOperationalError\u001b[0m: unable to open database file"
     ]
    }
   ],
   "source": [
    "#Loading in the SQL data \n",
    "conn = sqlite3.connect('./zippedData/im.db/im.db')\n",
    "q = pd.read_sql(\"\"\"\n",
    "SELECT *\n",
    "FROM sqlite_master\n",
    "\n",
    "\"\"\", conn)\n",
    "q"
   ]
  },
  {
   "cell_type": "markdown",
   "metadata": {},
   "source": [
    "Here we can see all the tables contained in this SQL database, `movie_basics` is the table we'll go further into."
   ]
  },
  {
   "cell_type": "code",
   "execution_count": null,
   "metadata": {
    "scrolled": false
   },
   "outputs": [],
   "source": [
    "#Exploring the 'movie_basics' table\n",
    "q = pd.read_sql(\"\"\"\n",
    "\n",
    "SELECT *\n",
    "FROM movie_basics\n",
    "LIMIT 10\n",
    "\n",
    "\"\"\", conn)\n",
    "q"
   ]
  },
  {
   "cell_type": "code",
   "execution_count": null,
   "metadata": {
    "scrolled": true
   },
   "outputs": [],
   "source": [
    "#Creating a DataFrame 'less_90' containing all movies with runtimes less than 90 minutes\n",
    "less_90 = pd.read_sql(\"\"\"\n",
    "\n",
    "SELECT DISTINCT primary_title, runtime_minutes\n",
    "FROM movie_basics\n",
    "WHERE runtime_minutes < 90\n",
    "\n",
    "\"\"\", conn)\n",
    "less_90"
   ]
  },
  {
   "cell_type": "code",
   "execution_count": null,
   "metadata": {
    "scrolled": true
   },
   "outputs": [],
   "source": [
    "##Creating a DataFrame 'more_90' containing all movies with runtimes more than 90 minutes\n",
    "more_90 = pd.read_sql(\"\"\"\n",
    "\n",
    "SELECT DISTINCT primary_title, runtime_minutes\n",
    "FROM movie_basics\n",
    "WHERE runtime_minutes > 90\n",
    "\n",
    "\"\"\", conn)\n",
    "more_90"
   ]
  },
  {
   "cell_type": "markdown",
   "metadata": {},
   "source": [
    "### Cleaning the `more_90` and `less_90` DataFrames"
   ]
  },
  {
   "cell_type": "code",
   "execution_count": null,
   "metadata": {},
   "outputs": [],
   "source": [
    "# Getting rid of all duplicates, no null values to worry about\n",
    "more_90.drop_duplicates(subset='primary_title', keep=False, inplace=True)\n",
    "less_90.drop_duplicates(subset='primary_title', keep=False, inplace=True)"
   ]
  },
  {
   "cell_type": "markdown",
   "metadata": {},
   "source": [
    "### Loading in `budgets` and Merging with `more_90` and `less_90`"
   ]
  },
  {
   "cell_type": "code",
   "execution_count": null,
   "metadata": {},
   "outputs": [],
   "source": [
    "# Loading in a new DataFrame\n",
    "budgets = pd.read_csv('zippedData/tn.movie_budgets.csv.gz')"
   ]
  },
  {
   "cell_type": "code",
   "execution_count": null,
   "metadata": {},
   "outputs": [],
   "source": [
    "budgets.head()"
   ]
  },
  {
   "cell_type": "code",
   "execution_count": null,
   "metadata": {},
   "outputs": [],
   "source": [
    "# Getting rid of all duplicates, no null values to worry about\n",
    "budgets.drop_duplicates(subset='movie', keep=False, inplace=True)"
   ]
  },
  {
   "cell_type": "code",
   "execution_count": null,
   "metadata": {},
   "outputs": [],
   "source": [
    "# Creating 2 new DataFrames by merging more_90 with budgets and less_90 with budgets.\n",
    "# Merged using the titles of shared films between the DataFrames.\n",
    "more_90_budgets = more_90.merge(budgets, how='inner', left_on='primary_title', right_on='movie')\n",
    "less_90_budgets = less_90.merge(budgets, how='inner', left_on='primary_title', right_on='movie')"
   ]
  },
  {
   "cell_type": "code",
   "execution_count": null,
   "metadata": {
    "scrolled": false
   },
   "outputs": [],
   "source": [
    "more_90_budgets.head()"
   ]
  },
  {
   "cell_type": "code",
   "execution_count": null,
   "metadata": {},
   "outputs": [],
   "source": [
    "less_90_budgets.head()"
   ]
  },
  {
   "cell_type": "markdown",
   "metadata": {},
   "source": [
    "### Cleaning `more_90_budgets` and `less_90_budgets`"
   ]
  },
  {
   "cell_type": "code",
   "execution_count": null,
   "metadata": {},
   "outputs": [],
   "source": [
    "# For columns that will be used, getting rid of dollar signs and commas.\n",
    "# After this they can be turned into floats.\n",
    "more_90_budgets['production_budget'] = more_90_budgets['production_budget'].str.strip('$')\n",
    "more_90_budgets['production_budget'] = more_90_budgets['production_budget'].str.replace(',','')\n",
    "more_90_budgets['worldwide_gross'] = more_90_budgets['worldwide_gross'].str.strip('$')\n",
    "more_90_budgets['worldwide_gross'] = more_90_budgets['worldwide_gross'].str.replace(',' , '')\n",
    "more_90_budgets['worldwide_gross'] = more_90_budgets['worldwide_gross'].astype(float)\n",
    "more_90_budgets['production_budget'] = more_90_budgets['production_budget'].astype(float)"
   ]
  },
  {
   "cell_type": "code",
   "execution_count": null,
   "metadata": {},
   "outputs": [],
   "source": [
    "# Creating a new column named 'profit' using 'worldwide_gross' minus 'production_budget'\n",
    "more_90_budgets['profit'] = more_90_budgets['worldwide_gross'] - more_90_budgets['production_budget']"
   ]
  },
  {
   "cell_type": "markdown",
   "metadata": {},
   "source": [
    "#### Repeat the same cleaning process for `less_90_budgets`"
   ]
  },
  {
   "cell_type": "code",
   "execution_count": null,
   "metadata": {},
   "outputs": [],
   "source": [
    "# For columns that will be used, getting rid of dollar signs and commas.\n",
    "# After this they can be turned into floats.\n",
    "less_90_budgets['production_budget'] = less_90_budgets['production_budget'].str.strip('$')\n",
    "less_90_budgets['production_budget'] = less_90_budgets['production_budget'].str.replace(',','')\n",
    "less_90_budgets['worldwide_gross'] = less_90_budgets['worldwide_gross'].str.strip('$')\n",
    "less_90_budgets['worldwide_gross'] = less_90_budgets['worldwide_gross'].str.replace(',' , '')\n",
    "less_90_budgets['worldwide_gross'] = less_90_budgets['worldwide_gross'].astype(float)\n",
    "less_90_budgets['production_budget'] = less_90_budgets['production_budget'].astype(float)"
   ]
  },
  {
   "cell_type": "code",
   "execution_count": null,
   "metadata": {},
   "outputs": [],
   "source": [
    "# Creating a new column named 'profit' using 'worldwide_gross' minus 'production_budget'\n",
    "less_90_budgets['profit'] = less_90_budgets['worldwide_gross'] - less_90_budgets['production_budget']"
   ]
  },
  {
   "cell_type": "markdown",
   "metadata": {},
   "source": [
    "## Viewing Relationship of `profit` vs. `runtime_minutes` for Films < 90 mins and Films > 90 mins"
   ]
  },
  {
   "cell_type": "code",
   "execution_count": null,
   "metadata": {
    "scrolled": false
   },
   "outputs": [],
   "source": [
    "# Scatter plot for movies shorter than 90 minutes\n",
    "less_90_budgets.plot.scatter(x='runtime_minutes', y='profit');"
   ]
  },
  {
   "cell_type": "code",
   "execution_count": null,
   "metadata": {},
   "outputs": [],
   "source": [
    "# Scatter plot for movies longer than 90 minutes\n",
    "more_90_budgets.plot.scatter(x='runtime_minutes', y='profit');"
   ]
  },
  {
   "cell_type": "markdown",
   "metadata": {},
   "source": [
    "### The means below show a large difference between the average profits. It seems like films with runtimes longer than 90 minutes make more money on average than movies less than 90 minutes."
   ]
  },
  {
   "cell_type": "code",
   "execution_count": null,
   "metadata": {},
   "outputs": [],
   "source": [
    "# Finding the mean profit for 'less_90_budgets' and 'more_90_budgets' \n",
    "less_90_budgets['profit'].mean(), more_90_budgets['profit'].mean()"
   ]
  },
  {
   "cell_type": "markdown",
   "metadata": {},
   "source": [
    "### We can find out if it's statistically significant with a 2 sample T-test. First, let's state our null hypothesis, alternative hypothesis, and alpha level.\n",
    "#### H0: Films with a runtime less than 90 mins and films with a runtime greater than 90 minutes return the same amount of profit on average.\n",
    "#### H1: Films with a runtime less than 90 mins and films with a runtime greater than 90 minutes return a different amount of profit on average.\n",
    "#### Alpha = 0.05 \n",
    "#### Now, let's run the test and check the results."
   ]
  },
  {
   "cell_type": "code",
   "execution_count": null,
   "metadata": {},
   "outputs": [],
   "source": [
    "# Running a 2 sample ttest\n",
    "# alpha = 0.05\n",
    "tstat, pvalue = stats.ttest_ind(less_90_budgets['profit'], more_90_budgets['profit'], equal_var=False)\n",
    "tstat, pvalue"
   ]
  },
  {
   "cell_type": "markdown",
   "metadata": {},
   "source": [
    "### The pvalue is < 0.05 meaning we reject the null hypothesis. This concludes that on average, films with a runtime less than 90 mins and films with a runtime greater than 90 minutes return a different amount of profit on average.\n",
    "#### More specifically, films that are longer than 90 minutes return a greater profit on average.\n",
    "\n",
    "## Exploring how Runtime influences Popularity\n",
    "### Creating the `all_runtime`"
   ]
  },
  {
   "cell_type": "code",
   "execution_count": null,
   "metadata": {
    "scrolled": true
   },
   "outputs": [],
   "source": [
    "# Creating a new DataFrame that contains all runtime lengths\n",
    "all_runtime = pd.read_sql(\"\"\"\n",
    "\n",
    "SELECT DISTINCT primary_title, runtime_minutes\n",
    "FROM movie_basics\n",
    "\n",
    "\n",
    "\"\"\", conn)\n",
    "all_runtime"
   ]
  },
  {
   "cell_type": "markdown",
   "metadata": {},
   "source": [
    "### Cleaning `all_runtime`"
   ]
  },
  {
   "cell_type": "code",
   "execution_count": null,
   "metadata": {},
   "outputs": [],
   "source": [
    "# Getting rid of duplicates\n",
    "all_runtime.drop_duplicates(subset='primary_title', keep=False, inplace=True)"
   ]
  },
  {
   "cell_type": "markdown",
   "metadata": {},
   "source": [
    "### Merging `all_runtime` with `budgets`"
   ]
  },
  {
   "cell_type": "code",
   "execution_count": null,
   "metadata": {},
   "outputs": [],
   "source": [
    "# Merging using the titles of shared films between the DataFrames.\n",
    "all_runtime_budgets = all_runtime.merge(budgets, how='inner', left_on='primary_title', right_on='movie')"
   ]
  },
  {
   "cell_type": "markdown",
   "metadata": {},
   "source": [
    "### Cleaning `all_runtime_budgets` \n",
    "Performing the same cleaning processes that were done for `more_90_budgets` and `less_90_budgets`"
   ]
  },
  {
   "cell_type": "code",
   "execution_count": null,
   "metadata": {},
   "outputs": [],
   "source": [
    "# For columns that will be used, getting rid of dollar signs and commas.\n",
    "# After this they can be turned into floats.\n",
    "all_runtime_budgets['production_budget'] = all_runtime_budgets['production_budget'].str.strip('$')\n",
    "all_runtime_budgets['production_budget'] = all_runtime_budgets['production_budget'].str.replace(',','')\n",
    "all_runtime_budgets['production_budget'] = all_runtime_budgets['production_budget'].astype(float)\n",
    "all_runtime_budgets['worldwide_gross'] = all_runtime_budgets['worldwide_gross'].str.strip('$')\n",
    "all_runtime_budgets['worldwide_gross'] = all_runtime_budgets['worldwide_gross'].str.replace(',','')\n",
    "all_runtime_budgets['worldwide_gross'] = all_runtime_budgets['worldwide_gross'].astype(float)"
   ]
  },
  {
   "cell_type": "code",
   "execution_count": null,
   "metadata": {},
   "outputs": [],
   "source": [
    "# Creating a new column named 'profit' using 'worldwide_gross' minus 'production_budget'\n",
    "all_runtime_budgets['profit'] = all_runtime_budgets['worldwide_gross'] - all_runtime_budgets['production_budget']"
   ]
  },
  {
   "cell_type": "markdown",
   "metadata": {},
   "source": [
    "### Creating `df_movies2`"
   ]
  },
  {
   "cell_type": "code",
   "execution_count": null,
   "metadata": {},
   "outputs": [],
   "source": [
    "# Taking only the movie title and popularity rating from 'df_movies' DataFrame\n",
    "df_movies2 = df_movies[['original_title' , 'popularity']]"
   ]
  },
  {
   "cell_type": "markdown",
   "metadata": {},
   "source": [
    "### Merging `df_movies2` and `budgets` into `df_movies2_budgets`\n"
   ]
  },
  {
   "cell_type": "code",
   "execution_count": null,
   "metadata": {},
   "outputs": [],
   "source": [
    "# Merged using the titles of the movies\n",
    "df_movies2_budgets = df_movies2.merge(all_runtime_budgets, how='inner', left_on='original_title', right_on='movie')"
   ]
  },
  {
   "cell_type": "markdown",
   "metadata": {},
   "source": [
    "### Cleaning `df_movies2_budgets`"
   ]
  },
  {
   "cell_type": "code",
   "execution_count": null,
   "metadata": {},
   "outputs": [],
   "source": [
    "# Getting rid of null values\n",
    "df_movies2_budgets.dropna(subset=['runtime_minutes'], inplace=True)"
   ]
  },
  {
   "cell_type": "markdown",
   "metadata": {},
   "source": [
    "### Visually exploring the relationship between `runtime_minutes` and `popularity`"
   ]
  },
  {
   "cell_type": "code",
   "execution_count": null,
   "metadata": {
    "scrolled": true
   },
   "outputs": [],
   "source": [
    "# Creating scatter plot\n",
    "df_movies2_budgets.plot.scatter(x='runtime_minutes', y='popularity');"
   ]
  },
  {
   "cell_type": "markdown",
   "metadata": {},
   "source": [
    "Above it's evident that there are some outliers that will poorly affect a linear regression. There looks to be about 8 values at the lowest end of `runtime_minutes` that are less than ~70 minutes. Then there are the two highest points with `popularity` greater than 70. It is in our best interest to get rid of these outliers to improve the results of a linear regression.\n",
    "\n",
    "### Getting rid of the outliers"
   ]
  },
  {
   "cell_type": "code",
   "execution_count": null,
   "metadata": {},
   "outputs": [],
   "source": [
    "# Only keeping movies that have a runtime greater than or equal to 70 minutes \n",
    "df_movies2_budgets = df_movies2_budgets[df_movies2_budgets['runtime_minutes'] >= 70]"
   ]
  },
  {
   "cell_type": "code",
   "execution_count": null,
   "metadata": {},
   "outputs": [],
   "source": [
    "# Only keeping movies that have a popularity score of less than 65\n",
    "df_movies2_budgets = df_movies2_budgets[df_movies2_budgets['popularity'] < 65]"
   ]
  },
  {
   "cell_type": "markdown",
   "metadata": {},
   "source": [
    "### Visually exploring the relationship now that the outliers are gone"
   ]
  },
  {
   "cell_type": "code",
   "execution_count": null,
   "metadata": {
    "scrolled": false
   },
   "outputs": [],
   "source": [
    "# Creating scatter plot\n",
    "df_movies2_budgets.plot.scatter(x='runtime_minutes', y='popularity');"
   ]
  },
  {
   "cell_type": "markdown",
   "metadata": {},
   "source": [
    "The scatter plot above looks a lot better.\n",
    "\n",
    "### Rainbow test of linearity\n",
    "To make sure our data is linear (one of the four assumptions made when running a linear regression) we can run a rainbow test. The null hypothesis of this test is that the data is linear. We will set our alpha level at 0.01."
   ]
  },
  {
   "cell_type": "code",
   "execution_count": null,
   "metadata": {
    "scrolled": true
   },
   "outputs": [],
   "source": [
    "# Running the rainbow test\n",
    "model = ols(\"popularity ~ runtime_minutes\", data=df_movies2_budgets).fit()\n",
    "F_statistic, p_value = linear_rainbow(res=model, frac=0.5)\n",
    "F_statistic, p_value"
   ]
  },
  {
   "cell_type": "markdown",
   "metadata": {},
   "source": [
    "The pvalue is > 0.01, meaning we fail to reject the null hypothesis and we can safely assume that our data is linear based on our test results.\n",
    "\n",
    "### Linear Regression for `runtime_minutes` and `popularity`"
   ]
  },
  {
   "cell_type": "code",
   "execution_count": null,
   "metadata": {},
   "outputs": [],
   "source": [
    "# Running the linear regression and printing the R-Squared value\n",
    "X = df_movies2_budgets[['runtime_minutes']]  \n",
    "y = df_movies2_budgets['popularity']  \n",
    "model = LinearRegression()\n",
    "model.fit(X, y)\n",
    "y_pred = model.predict(X)\n",
    "r_squared = model.score(X, y)\n",
    "print(\"R-squared value: \", r_squared)"
   ]
  },
  {
   "cell_type": "markdown",
   "metadata": {},
   "source": [
    "This R-Squared value means that about 19% of the popularity score a movie receives is explained by the runtime of the movie.\n",
    "\n",
    "## Conclusion\n",
    "Based on our data analysis we have three final recommendations.\n",
    "1. Work with one of our top studios because they have the highest gross revenues.\n",
    "2. Make movies under one of our top genres because these types of movies earn the highest ratings.\n",
    "3. Make movies that are longer than 90 minutes and aim around 120 minutes in length. These movies return the highest profits.\n",
    "## Next Steps\n",
    "- Explore which age rating (P, PG, PG-13, R) would be best\n",
    "- Explore which actors bring in the most revenue\n",
    "- Explore which directors are best for -insert genre rec here-"
   ]
  }
 ],
 "metadata": {
  "kernelspec": {
   "display_name": "Python (learn-env)",
   "language": "python",
   "name": "learn-env"
  },
  "language_info": {
   "codemirror_mode": {
    "name": "ipython",
    "version": 3
   },
   "file_extension": ".py",
   "mimetype": "text/x-python",
   "name": "python",
   "nbconvert_exporter": "python",
   "pygments_lexer": "ipython3",
   "version": "3.8.5"
  }
 },
 "nbformat": 4,
 "nbformat_minor": 4
}
